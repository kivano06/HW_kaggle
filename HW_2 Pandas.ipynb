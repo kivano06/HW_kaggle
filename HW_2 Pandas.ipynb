{
 "cells": [
  {
   "cell_type": "code",
   "execution_count": 1,
   "id": "f3cba6aa",
   "metadata": {},
   "outputs": [],
   "source": [
    "import pandas as pd"
   ]
  },
  {
   "cell_type": "code",
   "execution_count": 2,
   "id": "d30fc39f",
   "metadata": {},
   "outputs": [
    {
     "name": "stdout",
     "output_type": "stream",
     "text": [
      "<class 'pandas.core.frame.DataFrame'>\n",
      "Int64Index: 10000000 entries, 0 to 9999999\n",
      "Data columns (total 9 columns):\n",
      " #   Column                          Dtype  \n",
      "---  ------                          -----  \n",
      " 0   timestamp                       int64  \n",
      " 1   user_id                         int32  \n",
      " 2   content_id                      int16  \n",
      " 3   content_type_id                 int8   \n",
      " 4   task_container_id               int16  \n",
      " 5   user_answer                     int8   \n",
      " 6   answered_correctly              int8   \n",
      " 7   prior_question_elapsed_time     float32\n",
      " 8   prior_question_had_explanation  boolean\n",
      "dtypes: boolean(1), float32(1), int16(2), int32(1), int64(1), int8(3)\n",
      "memory usage: 314.7 MB\n"
     ]
    }
   ],
   "source": [
    "# Выгрузим из датасета train первый 10000000 строк для приемлемой работы\n",
    "\n",
    "train = pd.read_csv('train.csv', sep=',', index_col=0,\n",
    "                       dtype = {'row_id': 'int64', 'timestamp': 'int64', 'user_id': 'int32', 'content_id': 'int16', \n",
    "                                'content_type_id': 'int8', 'task_container_id': 'int16', 'user_answer': 'int8', \n",
    "                                'answered_correctly': 'int8', 'prior_question_elapsed_time': 'float32', \n",
    "                                'prior_question_had_explanation': 'boolean'\n",
    "                               }, nrows=10000000\n",
    "                      )\n",
    "train.info()"
   ]
  },
  {
   "cell_type": "markdown",
   "id": "529ff2ce",
   "metadata": {},
   "source": [
    "### Для удобства анализа приведем последний столбец к числовому типу\n",
    "\n",
    "\n",
    "\n"
   ]
  },
  {
   "cell_type": "code",
   "execution_count": 3,
   "id": "e8fcda8c",
   "metadata": {},
   "outputs": [
    {
     "name": "stdout",
     "output_type": "stream",
     "text": [
      "<class 'pandas.core.frame.DataFrame'>\n",
      "Int64Index: 10000000 entries, 0 to 9999999\n",
      "Data columns (total 9 columns):\n",
      " #   Column                          Dtype  \n",
      "---  ------                          -----  \n",
      " 0   timestamp                       int64  \n",
      " 1   user_id                         int32  \n",
      " 2   content_id                      int16  \n",
      " 3   content_type_id                 int8   \n",
      " 4   task_container_id               int16  \n",
      " 5   user_answer                     int8   \n",
      " 6   answered_correctly              int8   \n",
      " 7   prior_question_elapsed_time     float32\n",
      " 8   prior_question_had_explanation  int8   \n",
      "dtypes: float32(1), int16(2), int32(1), int64(1), int8(4)\n",
      "memory usage: 305.2 MB\n"
     ]
    }
   ],
   "source": [
    "for i in range(train.shape[0]):\n",
    "    if pd.isna(train['prior_question_had_explanation'][i]) == True:\n",
    "        train['prior_question_had_explanation'][i] = False\n",
    "train['prior_question_had_explanation'] = train['prior_question_had_explanation'].astype('int8')\n",
    "\n",
    "train.info()"
   ]
  },
  {
   "cell_type": "markdown",
   "id": "7bb0392b",
   "metadata": {},
   "source": [
    "## 1. Исследуем данные Train\n"
   ]
  },
  {
   "cell_type": "code",
   "execution_count": 4,
   "id": "a3483a79",
   "metadata": {},
   "outputs": [
    {
     "data": {
      "text/html": [
       "<div>\n",
       "<style scoped>\n",
       "    .dataframe tbody tr th:only-of-type {\n",
       "        vertical-align: middle;\n",
       "    }\n",
       "\n",
       "    .dataframe tbody tr th {\n",
       "        vertical-align: top;\n",
       "    }\n",
       "\n",
       "    .dataframe thead th {\n",
       "        text-align: right;\n",
       "    }\n",
       "</style>\n",
       "<table border=\"1\" class=\"dataframe\">\n",
       "  <thead>\n",
       "    <tr style=\"text-align: right;\">\n",
       "      <th></th>\n",
       "      <th>Column_Name</th>\n",
       "      <th>Num_Unique</th>\n",
       "      <th>Type</th>\n",
       "    </tr>\n",
       "  </thead>\n",
       "  <tbody>\n",
       "    <tr>\n",
       "      <th>0</th>\n",
       "      <td>content_type_id</td>\n",
       "      <td>2</td>\n",
       "      <td>int8</td>\n",
       "    </tr>\n",
       "    <tr>\n",
       "      <th>1</th>\n",
       "      <td>prior_question_had_explanation</td>\n",
       "      <td>2</td>\n",
       "      <td>int8</td>\n",
       "    </tr>\n",
       "    <tr>\n",
       "      <th>2</th>\n",
       "      <td>answered_correctly</td>\n",
       "      <td>3</td>\n",
       "      <td>int8</td>\n",
       "    </tr>\n",
       "    <tr>\n",
       "      <th>3</th>\n",
       "      <td>user_answer</td>\n",
       "      <td>5</td>\n",
       "      <td>int8</td>\n",
       "    </tr>\n",
       "    <tr>\n",
       "      <th>4</th>\n",
       "      <td>prior_question_elapsed_time</td>\n",
       "      <td>2583</td>\n",
       "      <td>float32</td>\n",
       "    </tr>\n",
       "    <tr>\n",
       "      <th>5</th>\n",
       "      <td>task_container_id</td>\n",
       "      <td>10000</td>\n",
       "      <td>int16</td>\n",
       "    </tr>\n",
       "    <tr>\n",
       "      <th>6</th>\n",
       "      <td>content_id</td>\n",
       "      <td>13749</td>\n",
       "      <td>int16</td>\n",
       "    </tr>\n",
       "    <tr>\n",
       "      <th>7</th>\n",
       "      <td>user_id</td>\n",
       "      <td>39491</td>\n",
       "      <td>int32</td>\n",
       "    </tr>\n",
       "    <tr>\n",
       "      <th>8</th>\n",
       "      <td>timestamp</td>\n",
       "      <td>7534842</td>\n",
       "      <td>int64</td>\n",
       "    </tr>\n",
       "  </tbody>\n",
       "</table>\n",
       "</div>"
      ],
      "text/plain": [
       "                      Column_Name  Num_Unique     Type\n",
       "0                 content_type_id           2     int8\n",
       "1  prior_question_had_explanation           2     int8\n",
       "2              answered_correctly           3     int8\n",
       "3                     user_answer           5     int8\n",
       "4     prior_question_elapsed_time        2583  float32\n",
       "5               task_container_id       10000    int16\n",
       "6                      content_id       13749    int16\n",
       "7                         user_id       39491    int32\n",
       "8                       timestamp     7534842    int64"
      ]
     },
     "metadata": {},
     "output_type": "display_data"
    }
   ],
   "source": [
    "# Исследуем количество уникальных значений для всех столбцов\n",
    "unique_list = []\n",
    "for col in train.columns:\n",
    "    item = (col, train[col].nunique(), train[col].dtype)\n",
    "    unique_list.append(item)\n",
    "unique_counts = pd.DataFrame(unique_list,\n",
    "                             columns=['Column_Name', 'Num_Unique', 'Type']\n",
    "                            ).sort_values(by='Num_Unique',  ignore_index=True)\n",
    "display(unique_counts)"
   ]
  },
  {
   "cell_type": "code",
   "execution_count": 5,
   "id": "aeec05cd",
   "metadata": {},
   "outputs": [
    {
     "data": {
      "text/plain": [
       "195396"
      ]
     },
     "execution_count": 5,
     "metadata": {},
     "output_type": "execute_result"
    }
   ],
   "source": [
    "# Данные с неуникальными значениями в столбцах можно исследовать дополнительно:\n",
    "\n",
    "train['content_type_id'].value_counts(normalize=True) \n",
    "train['content_type_id'].value_counts()[0] \n",
    "train['content_type_id'].value_counts()[1] \n",
    "\n",
    "# 98% активновти студентов приходится на ответы на вопросы:\n",
    "# Всего ответов на вопросы: 9804604\n",
    "# Всего просмотров лекций: 195396"
   ]
  },
  {
   "cell_type": "code",
   "execution_count": 6,
   "id": "f1b31040",
   "metadata": {},
   "outputs": [
    {
     "data": {
      "text/plain": [
       "0.6586115053703342"
      ]
     },
     "execution_count": 6,
     "metadata": {},
     "output_type": "execute_result"
    }
   ],
   "source": [
    "#Исследуем соотношение правильных и неправильных овтетов, исключая из рассмотрения лекции:\n",
    "\n",
    "train[train['answered_correctly'] != -1]['answered_correctly'].value_counts(normalize=True) \n",
    "train[train['answered_correctly'] != -1]['answered_correctly'].value_counts()[1] \n",
    "train[train['answered_correctly'] != -1]['answered_correctly'].value_counts()[0]\n",
    "train[train['answered_correctly'] != -1]['answered_correctly'].mean()\n",
    "\n",
    "# 66% составляют правильные ответы, 34% - неправильные\n",
    "# всего 6457425 правильных ответов и 3347179 неправильных\n",
    "# 0,659 cредний балл студента"
   ]
  },
  {
   "cell_type": "code",
   "execution_count": 7,
   "id": "1bd1e087",
   "metadata": {},
   "outputs": [
    {
     "data": {
      "text/plain": [
       "25307.6328125"
      ]
     },
     "execution_count": 7,
     "metadata": {},
     "output_type": "execute_result"
    }
   ],
   "source": [
    "# Вычислим среднее время решения вопроса\n",
    "\n",
    "train['prior_question_elapsed_time'].mean()"
   ]
  },
  {
   "cell_type": "code",
   "execution_count": 8,
   "id": "100b136f",
   "metadata": {},
   "outputs": [
    {
     "data": {
      "text/plain": [
       "224.24235901851054"
      ]
     },
     "execution_count": 8,
     "metadata": {},
     "output_type": "execute_result"
    }
   ],
   "source": [
    "# Вычислим средние значения по всем данным:\n",
    "\n",
    "train[train['content_type_id'] == 0].shape[0] / train['user_id'].nunique()\n",
    "train[train['answered_correctly'] != -1]['answered_correctly'].sum() / train['user_id'].nunique()\n",
    "train[train['content_type_id'] == 1].shape[0] / train['user_id'].nunique()\n",
    "train['prior_question_had_explanation'].sum() / train['user_id'].nunique()\n",
    "\n",
    "\n",
    "# Cреднее число отвеченных вопросов: 248.27\n",
    "# Среднее кол-во правильных ответов: 163.51\n",
    "# Среднее число просмотренных лекций: 4.95\n",
    "# Среднее число виденных объяснений: 224.24\n"
   ]
  },
  {
   "cell_type": "code",
   "execution_count": 9,
   "id": "d4a9b143",
   "metadata": {},
   "outputs": [
    {
     "data": {
      "text/html": [
       "<div>\n",
       "<style scoped>\n",
       "    .dataframe tbody tr th:only-of-type {\n",
       "        vertical-align: middle;\n",
       "    }\n",
       "\n",
       "    .dataframe tbody tr th {\n",
       "        vertical-align: top;\n",
       "    }\n",
       "\n",
       "    .dataframe thead th {\n",
       "        text-align: right;\n",
       "    }\n",
       "</style>\n",
       "<table border=\"1\" class=\"dataframe\">\n",
       "  <thead>\n",
       "    <tr style=\"text-align: right;\">\n",
       "      <th></th>\n",
       "      <th>timestamp</th>\n",
       "      <th>prior_questions_time</th>\n",
       "      <th>had_explanation</th>\n",
       "    </tr>\n",
       "    <tr>\n",
       "      <th>answered_correctly</th>\n",
       "      <th></th>\n",
       "      <th></th>\n",
       "      <th></th>\n",
       "    </tr>\n",
       "  </thead>\n",
       "  <tbody>\n",
       "    <tr>\n",
       "      <th>0</th>\n",
       "      <td>7.046183e+09</td>\n",
       "      <td>25704.232422</td>\n",
       "      <td>2880081.0</td>\n",
       "    </tr>\n",
       "    <tr>\n",
       "      <th>1</th>\n",
       "      <td>7.801606e+09</td>\n",
       "      <td>25357.035156</td>\n",
       "      <td>5975474.0</td>\n",
       "    </tr>\n",
       "  </tbody>\n",
       "</table>\n",
       "</div>"
      ],
      "text/plain": [
       "                       timestamp  prior_questions_time  had_explanation\n",
       "answered_correctly                                                     \n",
       "0                   7.046183e+09          25704.232422        2880081.0\n",
       "1                   7.801606e+09          25357.035156        5975474.0"
      ]
     },
     "execution_count": 9,
     "metadata": {},
     "output_type": "execute_result"
    }
   ],
   "source": [
    "# Выясним, есть ли разница в % правильных ответов в зависимости от:\n",
    "# 1. Времени начала сессии\n",
    "# 2. Среднего времени ответа студента на вопрос\n",
    "# 3. Видел ли студент правильный ответ на предыдущее занятие\n",
    "\n",
    "pd.DataFrame({'timestamp': train[train['answered_correctly'] != -1]['timestamp'].groupby(train['answered_correctly']).mean(),\n",
    "              'prior_questions_time': train[train['answered_correctly'] != -1]['prior_question_elapsed_time'].groupby(train['answered_correctly']).mean(),\n",
    "              'had_explanation': train[train['answered_correctly'] != -1]['prior_question_had_explanation'].groupby(train['answered_correctly']).sum()\n",
    "             }\n",
    "            )\n",
    "\n",
    "# Можно сделать следующие выводы:\n",
    "# - чем ближе к началу сессии вопрос, тем менее успешно его проходят студенты \n",
    "# (т.е. успешность коррелирует со временем, проведенным на платформе)\n",
    "# - студенты, тратящие меньше времени на решение, чаще отвечают правильно\n",
    "# - если студент видел объяснение предыдущий задачи, вероятность правильного ответа удваивается"
   ]
  },
  {
   "cell_type": "markdown",
   "id": "8c412487",
   "metadata": {},
   "source": [
    "### Выводы\n",
    "#### 1. Чем ближе к началу сессии вопрос, тем менее успешно его проходят студенты (т.е. успешность коррелируется со временем, проведенным на платформе)\n",
    "#### 2. Студенты в среднем тратят меньше времени на правильный ответ, чем на неправильный.\n",
    "#### 3. Если студент видел объяснение предыдущий задачи, он в 2 раза чаще отвечает правильно, чем неправильно"
   ]
  },
  {
   "cell_type": "markdown",
   "id": "4a5484c6",
   "metadata": {},
   "source": [
    "## Cоздадим новый DataFrame c данными, агрегированными по студентам\n"
   ]
  },
  {
   "cell_type": "code",
   "execution_count": 10,
   "id": "1bd8f34e",
   "metadata": {},
   "outputs": [],
   "source": [
    "# Cоставим новый датафрейм по уникальным id студентов:\n",
    "# Сформируем списки для студентов\n",
    "\n",
    "students_lister = list(train['user_id'].unique())\n",
    "users_q = len(students_lister)"
   ]
  },
  {
   "cell_type": "code",
   "execution_count": 11,
   "id": "30eb7881",
   "metadata": {},
   "outputs": [],
   "source": [
    "# Поскольку число уникальных студентов слишком велико для быстрой обработки, \n",
    "# возьмем из нее 500 уникальных и проанализируем их активность:\n",
    "\n",
    "students_lister = students_lister[:500]"
   ]
  },
  {
   "cell_type": "code",
   "execution_count": 12,
   "id": "0d15886a",
   "metadata": {},
   "outputs": [],
   "source": [
    "# Посчитаем время на платформе для каждого студента:\n",
    "\n",
    "time = []\n",
    "for student in students_lister:\n",
    "    t = train[train['user_id'] == student]['timestamp'].max()\n",
    "    time.append(t)\n"
   ]
  },
  {
   "cell_type": "code",
   "execution_count": 13,
   "id": "c1bab248",
   "metadata": {},
   "outputs": [],
   "source": [
    "# Количество отвеченных вопросов:\n",
    "\n",
    "ques_quant = []\n",
    "for student in students_lister:\n",
    "    q = train[(train['user_id'] == student) & (train['content_type_id'] == 0)]['content_type_id'].count()\n",
    "    ques_quant.append(q)"
   ]
  },
  {
   "cell_type": "code",
   "execution_count": 14,
   "id": "5ae052b9",
   "metadata": {},
   "outputs": [],
   "source": [
    "# Средний балл студента: \n",
    "\n",
    "av_grade = []\n",
    "for student in students_lister:\n",
    "    g = train[(train['user_id'] == student) & (train['answered_correctly'] != -1)]['answered_correctly'].mean()\n",
    "    av_grade.append(g)"
   ]
  },
  {
   "cell_type": "code",
   "execution_count": 15,
   "id": "99c7f3cc",
   "metadata": {},
   "outputs": [],
   "source": [
    "# Кодичество просмотренных лекций:\n",
    "\n",
    "lec_watched = []\n",
    "for student in students_lister:\n",
    "    l = train[train['user_id'] == student]['content_type_id'].sum()\n",
    "    lec_watched.append(l)"
   ]
  },
  {
   "cell_type": "code",
   "execution_count": 16,
   "id": "1705a952",
   "metadata": {},
   "outputs": [],
   "source": [
    "# Количество приведенных объяснений на предыдущие вопросы:\n",
    "\n",
    "expl_watched = []\n",
    "for student in students_lister:\n",
    "    e = train[train['user_id'] == student]['prior_question_had_explanation'].sum()\n",
    "    expl_watched.append(e)"
   ]
  },
  {
   "cell_type": "code",
   "execution_count": 17,
   "id": "c5b8965f",
   "metadata": {},
   "outputs": [],
   "source": [
    "# Cреднее время затраченное студентом на вопрос:\n",
    "\n",
    "ques_time = []\n",
    "for student in students_lister:\n",
    "    qt = train[(train['user_id'] == student)]['prior_question_elapsed_time'].mean()\n",
    "    ques_time.append(qt)\n",
    "    "
   ]
  },
  {
   "cell_type": "code",
   "execution_count": 18,
   "id": "96817039",
   "metadata": {},
   "outputs": [],
   "source": [
    "# Сформируем таблицу по показателям выборки студентов приведенных выше:\n",
    "\n",
    "students = pd.DataFrame({'user_id': students_lister,\n",
    "                        'time': time,\n",
    "                        'ques_quant': ques_quant,\n",
    "                        'av_grade': av_grade,\n",
    "                        'lec_watched': lec_watched,\n",
    "                        'expl_watched': expl_watched,\n",
    "                         'ques_time': ques_time\n",
    "                       }\n",
    "                      )\n",
    "students = students.astype({'user_id': 'int32',\n",
    "                            'time': 'int64',\n",
    "                            'ques_quant': 'int16', \n",
    "                            'av_grade': 'float32',\n",
    "                            'lec_watched': 'int16',\n",
    "                            'expl_watched': 'int16',\n",
    "                            'ques_time': 'float32'\n",
    "                           })"
   ]
  },
  {
   "cell_type": "code",
   "execution_count": 19,
   "id": "e6c51a98",
   "metadata": {},
   "outputs": [
    {
     "data": {
      "text/html": [
       "<div>\n",
       "<style scoped>\n",
       "    .dataframe tbody tr th:only-of-type {\n",
       "        vertical-align: middle;\n",
       "    }\n",
       "\n",
       "    .dataframe tbody tr th {\n",
       "        vertical-align: top;\n",
       "    }\n",
       "\n",
       "    .dataframe thead th {\n",
       "        text-align: right;\n",
       "    }\n",
       "</style>\n",
       "<table border=\"1\" class=\"dataframe\">\n",
       "  <thead>\n",
       "    <tr style=\"text-align: right;\">\n",
       "      <th></th>\n",
       "      <th>user_id</th>\n",
       "      <th>time</th>\n",
       "      <th>ques_quant</th>\n",
       "      <th>av_grade</th>\n",
       "      <th>lec_watched</th>\n",
       "      <th>expl_watched</th>\n",
       "      <th>ques_time</th>\n",
       "    </tr>\n",
       "  </thead>\n",
       "  <tbody>\n",
       "    <tr>\n",
       "      <th>0</th>\n",
       "      <td>115</td>\n",
       "      <td>668090043</td>\n",
       "      <td>46</td>\n",
       "      <td>0.695652</td>\n",
       "      <td>0</td>\n",
       "      <td>6</td>\n",
       "      <td>19933.310547</td>\n",
       "    </tr>\n",
       "    <tr>\n",
       "      <th>1</th>\n",
       "      <td>124</td>\n",
       "      <td>571323</td>\n",
       "      <td>30</td>\n",
       "      <td>0.233333</td>\n",
       "      <td>0</td>\n",
       "      <td>0</td>\n",
       "      <td>18793.000000</td>\n",
       "    </tr>\n",
       "    <tr>\n",
       "      <th>2</th>\n",
       "      <td>2746</td>\n",
       "      <td>835457</td>\n",
       "      <td>19</td>\n",
       "      <td>0.578947</td>\n",
       "      <td>1</td>\n",
       "      <td>11</td>\n",
       "      <td>18055.554688</td>\n",
       "    </tr>\n",
       "    <tr>\n",
       "      <th>3</th>\n",
       "      <td>5382</td>\n",
       "      <td>2101551456</td>\n",
       "      <td>125</td>\n",
       "      <td>0.672000</td>\n",
       "      <td>3</td>\n",
       "      <td>113</td>\n",
       "      <td>36048.386719</td>\n",
       "    </tr>\n",
       "    <tr>\n",
       "      <th>4</th>\n",
       "      <td>8623</td>\n",
       "      <td>862338736</td>\n",
       "      <td>109</td>\n",
       "      <td>0.642202</td>\n",
       "      <td>3</td>\n",
       "      <td>96</td>\n",
       "      <td>26107.408203</td>\n",
       "    </tr>\n",
       "  </tbody>\n",
       "</table>\n",
       "</div>"
      ],
      "text/plain": [
       "   user_id        time  ques_quant  av_grade  lec_watched  expl_watched  \\\n",
       "0      115   668090043          46  0.695652            0             6   \n",
       "1      124      571323          30  0.233333            0             0   \n",
       "2     2746      835457          19  0.578947            1            11   \n",
       "3     5382  2101551456         125  0.672000            3           113   \n",
       "4     8623   862338736         109  0.642202            3            96   \n",
       "\n",
       "      ques_time  \n",
       "0  19933.310547  \n",
       "1  18793.000000  \n",
       "2  18055.554688  \n",
       "3  36048.386719  \n",
       "4  26107.408203  "
      ]
     },
     "execution_count": 19,
     "metadata": {},
     "output_type": "execute_result"
    }
   ],
   "source": [
    "students.head()"
   ]
  },
  {
   "cell_type": "code",
   "execution_count": 20,
   "id": "dcc0b02d",
   "metadata": {},
   "outputs": [
    {
     "data": {
      "text/html": [
       "<div>\n",
       "<style scoped>\n",
       "    .dataframe tbody tr th:only-of-type {\n",
       "        vertical-align: middle;\n",
       "    }\n",
       "\n",
       "    .dataframe tbody tr th {\n",
       "        vertical-align: top;\n",
       "    }\n",
       "\n",
       "    .dataframe thead th {\n",
       "        text-align: right;\n",
       "    }\n",
       "</style>\n",
       "<table border=\"1\" class=\"dataframe\">\n",
       "  <thead>\n",
       "    <tr style=\"text-align: right;\">\n",
       "      <th></th>\n",
       "      <th>user_id</th>\n",
       "      <th>time</th>\n",
       "      <th>ques_quant</th>\n",
       "      <th>av_grade</th>\n",
       "      <th>lec_watched</th>\n",
       "      <th>expl_watched</th>\n",
       "      <th>ques_time</th>\n",
       "    </tr>\n",
       "  </thead>\n",
       "  <tbody>\n",
       "    <tr>\n",
       "      <th>count</th>\n",
       "      <td>5.000000e+02</td>\n",
       "      <td>5.000000e+02</td>\n",
       "      <td>500.000000</td>\n",
       "      <td>500.000000</td>\n",
       "      <td>500.000000</td>\n",
       "      <td>500.000000</td>\n",
       "      <td>499.000000</td>\n",
       "    </tr>\n",
       "    <tr>\n",
       "      <th>mean</th>\n",
       "      <td>1.468722e+06</td>\n",
       "      <td>5.361427e+09</td>\n",
       "      <td>276.574000</td>\n",
       "      <td>0.554668</td>\n",
       "      <td>5.240000</td>\n",
       "      <td>253.600000</td>\n",
       "      <td>23859.998047</td>\n",
       "    </tr>\n",
       "    <tr>\n",
       "      <th>std</th>\n",
       "      <td>8.476328e+05</td>\n",
       "      <td>1.025473e+10</td>\n",
       "      <td>757.372753</td>\n",
       "      <td>0.165881</td>\n",
       "      <td>17.461851</td>\n",
       "      <td>751.298414</td>\n",
       "      <td>7225.852539</td>\n",
       "    </tr>\n",
       "    <tr>\n",
       "      <th>min</th>\n",
       "      <td>1.150000e+02</td>\n",
       "      <td>0.000000e+00</td>\n",
       "      <td>1.000000</td>\n",
       "      <td>0.000000</td>\n",
       "      <td>0.000000</td>\n",
       "      <td>0.000000</td>\n",
       "      <td>1344.862061</td>\n",
       "    </tr>\n",
       "    <tr>\n",
       "      <th>25%</th>\n",
       "      <td>7.444190e+05</td>\n",
       "      <td>1.395153e+06</td>\n",
       "      <td>30.000000</td>\n",
       "      <td>0.441731</td>\n",
       "      <td>0.000000</td>\n",
       "      <td>9.000000</td>\n",
       "      <td>19370.302734</td>\n",
       "    </tr>\n",
       "    <tr>\n",
       "      <th>50%</th>\n",
       "      <td>1.514318e+06</td>\n",
       "      <td>4.714174e+08</td>\n",
       "      <td>45.000000</td>\n",
       "      <td>0.580850</td>\n",
       "      <td>0.000000</td>\n",
       "      <td>22.500000</td>\n",
       "      <td>22924.494141</td>\n",
       "    </tr>\n",
       "    <tr>\n",
       "      <th>75%</th>\n",
       "      <td>2.201334e+06</td>\n",
       "      <td>5.065056e+09</td>\n",
       "      <td>171.750000</td>\n",
       "      <td>0.674960</td>\n",
       "      <td>2.000000</td>\n",
       "      <td>142.000000</td>\n",
       "      <td>26889.037109</td>\n",
       "    </tr>\n",
       "    <tr>\n",
       "      <th>max</th>\n",
       "      <td>2.909984e+06</td>\n",
       "      <td>6.370152e+10</td>\n",
       "      <td>7476.000000</td>\n",
       "      <td>1.000000</td>\n",
       "      <td>181.000000</td>\n",
       "      <td>7465.000000</td>\n",
       "      <td>60351.351562</td>\n",
       "    </tr>\n",
       "  </tbody>\n",
       "</table>\n",
       "</div>"
      ],
      "text/plain": [
       "            user_id          time   ques_quant    av_grade  lec_watched  \\\n",
       "count  5.000000e+02  5.000000e+02   500.000000  500.000000   500.000000   \n",
       "mean   1.468722e+06  5.361427e+09   276.574000    0.554668     5.240000   \n",
       "std    8.476328e+05  1.025473e+10   757.372753    0.165881    17.461851   \n",
       "min    1.150000e+02  0.000000e+00     1.000000    0.000000     0.000000   \n",
       "25%    7.444190e+05  1.395153e+06    30.000000    0.441731     0.000000   \n",
       "50%    1.514318e+06  4.714174e+08    45.000000    0.580850     0.000000   \n",
       "75%    2.201334e+06  5.065056e+09   171.750000    0.674960     2.000000   \n",
       "max    2.909984e+06  6.370152e+10  7476.000000    1.000000   181.000000   \n",
       "\n",
       "       expl_watched     ques_time  \n",
       "count    500.000000    499.000000  \n",
       "mean     253.600000  23859.998047  \n",
       "std      751.298414   7225.852539  \n",
       "min        0.000000   1344.862061  \n",
       "25%        9.000000  19370.302734  \n",
       "50%       22.500000  22924.494141  \n",
       "75%      142.000000  26889.037109  \n",
       "max     7465.000000  60351.351562  "
      ]
     },
     "execution_count": 20,
     "metadata": {},
     "output_type": "execute_result"
    }
   ],
   "source": [
    "# Проведем сравнение нашей выборки и общих данных:\n",
    "\n",
    "students.describe()\n",
    "\n",
    "# Наша выборка отличается от нашего датасета:\n",
    "# 1. Cредняя успеваемость у нашей группы ниже, чем у полного набора данных, \n",
    "# 2. Cреднее число просмотренных лекций и объяснений выше (за счет относительно небольшого кол-ва очень активно учащихся студентов\n",
    "# это видно из смещения кол-ва отвеченных вопросов, просмотренных лекций и объяснений в верхний квартиль и высокой дисперсии)\n",
    "# 3. Все значения укладываются в среднеквадратическое отклонение, поэтому можем считать их несущественными для результатов анализа"
   ]
  },
  {
   "cell_type": "code",
   "execution_count": 21,
   "id": "358a4553",
   "metadata": {},
   "outputs": [
    {
     "data": {
      "text/plain": [
       "<AxesSubplot:>"
      ]
     },
     "execution_count": 21,
     "metadata": {},
     "output_type": "execute_result"
    },
    {
     "data": {
      "image/png": "[encoded data removed]",
      "text/plain": [
       "<Figure size 432x288 with 1 Axes>"
      ]
     },
     "metadata": {
      "needs_background": "light"
     },
     "output_type": "display_data"
    }
   ],
   "source": [
    "# Приведем гистограмму распределения средних оценок среди студентов\n",
    "\n",
    "students['av_grade'].hist(bins=20)"
   ]
  },
  {
   "cell_type": "code",
   "execution_count": 22,
   "id": "50dc0781",
   "metadata": {},
   "outputs": [
    {
     "data": {
      "text/plain": [
       "0.5808496475219727"
      ]
     },
     "execution_count": 22,
     "metadata": {},
     "output_type": "execute_result"
    }
   ],
   "source": [
    "students['av_grade'].median()"
   ]
  },
  {
   "cell_type": "markdown",
   "id": "993d76b2",
   "metadata": {},
   "source": [
    "### Проведем анализ успешности студента от:\n",
    "#### 1. Времени, проведенном студентами на платформе\n",
    "#### 2. Количества сделанных заданий\n",
    "#### 3. Количества приведенных объяснений\n",
    "#### 4. Количества времени затраченного на один вопрос\n",
    "#### 5. Количества просмотренных лекций"
   ]
  },
  {
   "cell_type": "code",
   "execution_count": 23,
   "id": "8a48a3c3",
   "metadata": {},
   "outputs": [
    {
     "data": {
      "text/plain": [
       "<AxesSubplot:xlabel='av_grade', ylabel='time'>"
      ]
     },
     "execution_count": 23,
     "metadata": {},
     "output_type": "execute_result"
    },
    {
     "data": {
      "image/png": "[encoded data removed]",
      "text/plain": [
       "<Figure size 432x288 with 1 Axes>"
      ]
     },
     "metadata": {
      "needs_background": "light"
     },
     "output_type": "display_data"
    }
   ],
   "source": [
    "# Построим диаграмму рассеяния, показывающую зависимость правильных ответов от веремени, проведенного на платформе:\n",
    "# (чтобы убрать выбросы, ограничим время 3000000)\n",
    "\n",
    "students[students['time'] < 3000000].plot.scatter(x='av_grade', y='time')"
   ]
  },
  {
   "cell_type": "code",
   "execution_count": 24,
   "id": "4c03b544",
   "metadata": {},
   "outputs": [
    {
     "data": {
      "text/plain": [
       "array([[<AxesSubplot:title={'center':'time'}>]], dtype=object)"
      ]
     },
     "execution_count": 24,
     "metadata": {},
     "output_type": "execute_result"
    },
    {
     "data": {
      "image/png": "[encoded data removed]",
      "text/plain": [
       "<Figure size 432x288 with 1 Axes>"
      ]
     },
     "metadata": {
      "needs_background": "light"
     },
     "output_type": "display_data"
    }
   ],
   "source": [
    "# Посмотрим на гистограмме, в какой момент большинство студентов прекращает занятия:\n",
    "\n",
    "students[students['time'] < 3000000].hist(column=['time'])\n",
    "\n",
    "# Мы видим, что после 1000000 милисекунд (=17 минут) 1/5 часть студентов не продолжает обучения, \n",
    "# после 2500000 милисекунд (=42 минуты) учебу бросает уже треть\n",
    "# Получается, то, что мы изначально сочли выбросами - это наша основная рабочая выборка, которую надо исследовать, \n",
    "# чтобы понять влияние факторов на успеваемость. "
   ]
  },
  {
   "cell_type": "code",
   "execution_count": 25,
   "id": "1ce9d9a0",
   "metadata": {},
   "outputs": [
    {
     "data": {
      "text/plain": [
       "(161, 7)"
      ]
     },
     "execution_count": 25,
     "metadata": {},
     "output_type": "execute_result"
    }
   ],
   "source": [
    "# строка для проверки данных отсечения:\n",
    "\n",
    "students[students['time'] < 2500000].shape"
   ]
  },
  {
   "cell_type": "code",
   "execution_count": 27,
   "id": "8ccec5a8",
   "metadata": {},
   "outputs": [
    {
     "data": {
      "text/plain": [
       "<AxesSubplot:xlabel='av_grade', ylabel='time'>"
      ]
     },
     "execution_count": 27,
     "metadata": {},
     "output_type": "execute_result"
    },
    {
     "data": {
      "image/png": "[encoded data removed]",
      "text/plain": [
       "<Figure size 432x288 with 1 Axes>"
      ]
     },
     "metadata": {
      "needs_background": "light"
     },
     "output_type": "display_data"
    }
   ],
   "source": [
    "# Построим диаграмму рассеяния для студентов, не бросивших учебу в течение 1го часа:\n",
    "\n",
    "students[students['time'] > 3000000].plot.scatter(x='av_grade', y='time')\n",
    "\n",
    "# Видим, что успеваемость растет с течением времени"
   ]
  },
  {
   "cell_type": "code",
   "execution_count": 28,
   "id": "8c15958a",
   "metadata": {},
   "outputs": [
    {
     "data": {
      "text/plain": [
       "<AxesSubplot:title={'center':'av_grade'}, xlabel='[q_group]'>"
      ]
     },
     "execution_count": 28,
     "metadata": {},
     "output_type": "execute_result"
    },
    {
     "data": {
      "image/png": "[encoded data removed]",
      "text/plain": [
       "<Figure size 432x288 with 1 Axes>"
      ]
     },
     "metadata": {
      "needs_background": "light"
     },
     "output_type": "display_data"
    }
   ],
   "source": [
    "# Построим новый столбец с группировкой по количеству отвеченных вопросов и построим диаграмму размаха:\n",
    "\n",
    "def ques_convert(e):\n",
    "    if e < students['ques_quant'].quantile(0.1): return 0\n",
    "    elif e < students['ques_quant'].quantile(0.2): return 1\n",
    "    elif e < students['ques_quant'].quantile(0.3): return 2\n",
    "    elif e < students['ques_quant'].quantile(0.4): return 3\n",
    "    elif e < students['ques_quant'].quantile(0.5): return 4\n",
    "    elif e < students['ques_quant'].quantile(0.6): return 5\n",
    "    elif e < students['ques_quant'].quantile(0.7): return 6\n",
    "    elif e < students['ques_quant'].quantile(0.8): return 7\n",
    "    elif e < students['ques_quant'].quantile(0.9): return 8\n",
    "    else: return 9\n",
    "    \n",
    "students['q_group'] = students['ques_quant'].apply(ques_convert)\n",
    "\n",
    "students.boxplot(column=['av_grade'], by=['q_group'])\n",
    "\n",
    "# Замечаем странную просадку в четвертом квартале"
   ]
  },
  {
   "cell_type": "code",
   "execution_count": 29,
   "id": "49a59c3d",
   "metadata": {},
   "outputs": [
    {
     "data": {
      "text/plain": [
       "31.600000000000023"
      ]
     },
     "execution_count": 29,
     "metadata": {},
     "output_type": "execute_result"
    }
   ],
   "source": [
    "students['ques_quant'].quantile(0.4)"
   ]
  },
  {
   "cell_type": "code",
   "execution_count": 30,
   "id": "23330fbf",
   "metadata": {},
   "outputs": [
    {
     "data": {
      "text/plain": [
       "array([[<AxesSubplot:title={'center':'ques_quant'}>]], dtype=object)"
      ]
     },
     "execution_count": 30,
     "metadata": {},
     "output_type": "execute_result"
    },
    {
     "data": {
      "image/png": "[encoded data removed]",
      "text/plain": [
       "<Figure size 432x288 with 1 Axes>"
      ]
     },
     "metadata": {
      "needs_background": "light"
     },
     "output_type": "display_data"
    }
   ],
   "source": [
    "# Можем предположить, что первые вопросы могут выводить студентов из успешного ритма\n",
    "# Но если студент отвечает больше, чем на 34 вопроса, он постепенно начинает улучшать свои показатели и результаты улучшаются\n",
    "# На гистограме видно, что 32 вопроса - порог отсечения для многих студентов из нашей выборки\n",
    "\n",
    "students[(students['ques_quant'] < students['ques_quant'].quantile(0.5))].hist(column=['ques_quant'])"
   ]
  },
  {
   "cell_type": "code",
   "execution_count": 32,
   "id": "0da9e64d",
   "metadata": {},
   "outputs": [
    {
     "data": {
      "text/plain": [
       "<AxesSubplot:xlabel='av_grade', ylabel='expl_watched'>"
      ]
     },
     "execution_count": 32,
     "metadata": {},
     "output_type": "execute_result"
    },
    {
     "data": {
      "image/png": "[encoded data removed]",
      "text/plain": [
       "<Figure size 432x288 with 1 Axes>"
      ]
     },
     "metadata": {
      "needs_background": "light"
     },
     "output_type": "display_data"
    }
   ],
   "source": [
    "# Построим диаграмму рассеяния, показывающую зависимость правильных ответов от количества виденных объяснений:\n",
    "\n",
    "students[(students['expl_watched'] < 500)].plot.scatter(x='av_grade', y='expl_watched', c='green')"
   ]
  },
  {
   "cell_type": "code",
   "execution_count": 33,
   "id": "53e24a56",
   "metadata": {},
   "outputs": [
    {
     "data": {
      "text/plain": [
       "22.5"
      ]
     },
     "execution_count": 33,
     "metadata": {},
     "output_type": "execute_result"
    }
   ],
   "source": [
    "# Построим новый столбец с группировкой по количеству правильных ответов и построим диаграмму размаха:\n",
    "\n",
    "def expl_convert(e):\n",
    "    if e < students['expl_watched'].quantile(0.1): return 0\n",
    "    elif e < students['expl_watched'].quantile(0.2): return 1\n",
    "    elif e < students['expl_watched'].quantile(0.3): return 2\n",
    "    elif e < students['expl_watched'].quantile(0.4): return 3\n",
    "    elif e < students['expl_watched'].quantile(0.5): return 4\n",
    "    elif e < students['expl_watched'].quantile(0.6): return 5\n",
    "    elif e < students['expl_watched'].quantile(0.7): return 6\n",
    "    elif e < students['expl_watched'].quantile(0.8): return 7\n",
    "    elif e < students['expl_watched'].quantile(0.9): return 8\n",
    "    else: return 9\n",
    "    \n",
    "students['e_group'] = students['expl_watched'].apply(expl_convert)\n",
    "\n",
    "students['expl_watched'].quantile(0.5)"
   ]
  },
  {
   "cell_type": "code",
   "execution_count": 34,
   "id": "eefaf0f7",
   "metadata": {},
   "outputs": [
    {
     "data": {
      "text/plain": [
       "array([[<AxesSubplot:title={'center':'expl_watched'}>]], dtype=object)"
      ]
     },
     "execution_count": 34,
     "metadata": {},
     "output_type": "execute_result"
    },
    {
     "data": {
      "image/png": "[encoded data removed]",
      "text/plain": [
       "<Figure size 432x288 with 1 Axes>"
      ]
     },
     "metadata": {
      "needs_background": "light"
     },
     "output_type": "display_data"
    }
   ],
   "source": [
    "# Здесь мы видим, что 34 вопроса - порог отсечения для многих студентов\n",
    "\n",
    "students[(students['expl_watched'] < students['expl_watched'].quantile(0.8))].hist(column=['expl_watched'])"
   ]
  },
  {
   "cell_type": "code",
   "execution_count": 35,
   "id": "18634c15",
   "metadata": {},
   "outputs": [
    {
     "data": {
      "text/plain": [
       "<AxesSubplot:title={'center':'av_grade'}, xlabel='[e_group]'>"
      ]
     },
     "execution_count": 35,
     "metadata": {},
     "output_type": "execute_result"
    },
    {
     "data": {
      "image/png": "[encoded data removed]",
      "text/plain": [
       "<Figure size 432x288 with 1 Axes>"
      ]
     },
     "metadata": {
      "needs_background": "light"
     },
     "output_type": "display_data"
    }
   ],
   "source": [
    "students.boxplot(column=['av_grade'], by=['e_group'])\n",
    "\n",
    "# Виден четкий тренд на повышение оценки с ростом количества просмотренных объяснений"
   ]
  },
  {
   "cell_type": "code",
   "execution_count": 37,
   "id": "bcc2de83",
   "metadata": {},
   "outputs": [
    {
     "data": {
      "text/plain": [
       "<AxesSubplot:xlabel='av_grade', ylabel='lec_watched'>"
      ]
     },
     "execution_count": 37,
     "metadata": {},
     "output_type": "execute_result"
    },
    {
     "data": {
      "image/png": "[encoded data removed]",
      "text/plain": [
       "<Figure size 432x288 with 1 Axes>"
      ]
     },
     "metadata": {
      "needs_background": "light"
     },
     "output_type": "display_data"
    }
   ],
   "source": [
    "# Построим диаграмму рассеяния, показывающую зависимость правильных ответов от количества просмотренных лекций:\n",
    "\n",
    "students[students['lec_watched'] < 21].plot.scatter(x='av_grade', y='lec_watched', c='red')\n",
    "\n",
    "# Заметим, что экстремальные выбросы можно убрать, ограничив число 21 лекцией"
   ]
  },
  {
   "cell_type": "code",
   "execution_count": 38,
   "id": "12970eba",
   "metadata": {},
   "outputs": [
    {
     "data": {
      "text/plain": [
       "<AxesSubplot:title={'center':'av_grade'}, xlabel='[lec_watched]'>"
      ]
     },
     "execution_count": 38,
     "metadata": {},
     "output_type": "execute_result"
    },
    {
     "data": {
      "image/png": "[encoded data removed]",
      "text/plain": [
       "<Figure size 432x288 with 1 Axes>"
      ]
     },
     "metadata": {
      "needs_background": "light"
     },
     "output_type": "display_data"
    }
   ],
   "source": [
    "# Построим диаграмму размаха, показывающую зависимость правильных ответов от количества просмотренных лекций:\n",
    "\n",
    "students[students['lec_watched'] < 21].boxplot(column=['av_grade'], by=['lec_watched'])\n",
    "\n",
    "# Мы видим, что даже просмотр 1 лекции повышает средний балл и значительно повышает минимальную оценку студента.\n",
    "# Максимальный эффект достигается при просмотре 4-11 лекций, после чего эффективность просмотров снижается"
   ]
  },
  {
   "cell_type": "markdown",
   "id": "c374ba14",
   "metadata": {},
   "source": [
    "# Выводы по выборке из общего объема данных по 500 студентам:\n",
    "\n",
    "#### 1. Треть студентов бросает учебу, проведя на платформе менее 42 минут. За это время, вероятно, они не успевают почувствовать эффект, либо им просто что-то не нравится (недостаточно мотивации / слишком сложные вопросы / неудобный интерфейс и т.д.).\n",
    "#### 2. Если студент потратил на занятия не менее 55 часов, его оценка становится устойчиво выше средней и продолжает расти со временем.\n",
    "#### 3. Если курс не пройден за ~ полгода, оценка становится нестабильной. Т.е. стоит не только стимулировать студентов не бросать занятия после первого подхода, но и закончить курс за первые полгода обучения.\n",
    "#### 4. Анализ данных по количеству отвеченных вопросов подсказывает, что первые вопросы сильно демотивируют учащихся. Большая часть не преодолевает порог в 32 вопроса. Следует стимуляровать студентов к ответу хотя бы на первые 60 вопросов, чтобы добиться устойчивого улучшения результатов и мотивации к дальнейшему обучению.\n",
    "#### 5. С ростом количества просмотренных объяснений устойчиво растет успеваемость студентов.\n",
    "#### 6. Если студент посмотрит более 4х лекций, его успеваемость значительно возрастет. При этом просмотр более 11 лекций по какой-то причине не улучшает ситуацию."
   ]
  },
  {
   "cell_type": "markdown",
   "id": "298a7f88",
   "metadata": {},
   "source": [
    "## Исследуем данные questions"
   ]
  },
  {
   "cell_type": "code",
   "execution_count": 39,
   "id": "c0035cbb",
   "metadata": {},
   "outputs": [
    {
     "name": "stdout",
     "output_type": "stream",
     "text": [
      "<class 'pandas.core.frame.DataFrame'>\n",
      "RangeIndex: 13523 entries, 0 to 13522\n",
      "Data columns (total 5 columns):\n",
      " #   Column          Non-Null Count  Dtype \n",
      "---  ------          --------------  ----- \n",
      " 0   question_id     13523 non-null  int16 \n",
      " 1   bundle_id       13523 non-null  int16 \n",
      " 2   correct_answer  13523 non-null  int8  \n",
      " 3   part            13523 non-null  int8  \n",
      " 4   tags            13522 non-null  object\n",
      "dtypes: int16(2), int8(2), object(1)\n",
      "memory usage: 185.0+ KB\n"
     ]
    }
   ],
   "source": [
    "questions = pd.read_csv('questions.csv', sep=',',\n",
    "                        dtype = {'question_id': 'int16', 'bundle_id': 'int16', 'correct_answer': 'int8',\n",
    "                                 'part': 'int8', 'tags': 'object'\n",
    "                               })\n",
    "questions.info()"
   ]
  },
  {
   "cell_type": "code",
   "execution_count": 40,
   "id": "68e89386",
   "metadata": {},
   "outputs": [
    {
     "data": {
      "text/html": [
       "<div>\n",
       "<style scoped>\n",
       "    .dataframe tbody tr th:only-of-type {\n",
       "        vertical-align: middle;\n",
       "    }\n",
       "\n",
       "    .dataframe tbody tr th {\n",
       "        vertical-align: top;\n",
       "    }\n",
       "\n",
       "    .dataframe thead th {\n",
       "        text-align: right;\n",
       "    }\n",
       "</style>\n",
       "<table border=\"1\" class=\"dataframe\">\n",
       "  <thead>\n",
       "    <tr style=\"text-align: right;\">\n",
       "      <th></th>\n",
       "      <th>Column_Name</th>\n",
       "      <th>Num_Unique</th>\n",
       "      <th>Type</th>\n",
       "    </tr>\n",
       "  </thead>\n",
       "  <tbody>\n",
       "    <tr>\n",
       "      <th>0</th>\n",
       "      <td>correct_answer</td>\n",
       "      <td>4</td>\n",
       "      <td>int8</td>\n",
       "    </tr>\n",
       "    <tr>\n",
       "      <th>1</th>\n",
       "      <td>part</td>\n",
       "      <td>7</td>\n",
       "      <td>int8</td>\n",
       "    </tr>\n",
       "    <tr>\n",
       "      <th>2</th>\n",
       "      <td>tags</td>\n",
       "      <td>1519</td>\n",
       "      <td>object</td>\n",
       "    </tr>\n",
       "    <tr>\n",
       "      <th>3</th>\n",
       "      <td>bundle_id</td>\n",
       "      <td>9765</td>\n",
       "      <td>int16</td>\n",
       "    </tr>\n",
       "    <tr>\n",
       "      <th>4</th>\n",
       "      <td>question_id</td>\n",
       "      <td>13523</td>\n",
       "      <td>int16</td>\n",
       "    </tr>\n",
       "  </tbody>\n",
       "</table>\n",
       "</div>"
      ],
      "text/plain": [
       "      Column_Name  Num_Unique    Type\n",
       "0  correct_answer           4    int8\n",
       "1            part           7    int8\n",
       "2            tags        1519  object\n",
       "3       bundle_id        9765   int16\n",
       "4     question_id       13523   int16"
      ]
     },
     "metadata": {},
     "output_type": "display_data"
    }
   ],
   "source": [
    "# Исследуем количество уникальных значений для разных колонок:\n",
    "\n",
    "unique_list_q = []\n",
    "for col in questions.columns:\n",
    "    item = (col, questions[col].nunique(), questions[col].dtype)\n",
    "    unique_list_q.append(item)\n",
    "unique_counts_q = pd.DataFrame(unique_list_q,\n",
    "                               columns=['Column_Name', 'Num_Unique', 'Type']\n",
    "                              ).sort_values(by='Num_Unique',  ignore_index=True)\n",
    "display(unique_counts_q)"
   ]
  },
  {
   "cell_type": "code",
   "execution_count": 41,
   "id": "9b366926",
   "metadata": {},
   "outputs": [
    {
     "data": {
      "text/plain": [
       "count     13522\n",
       "unique     1519\n",
       "top           8\n",
       "freq        738\n",
       "Name: tags, dtype: object"
      ]
     },
     "execution_count": 41,
     "metadata": {},
     "output_type": "execute_result"
    }
   ],
   "source": [
    "questions['question_id'].groupby(questions['bundle_id']).count().max()\n",
    "questions['part'].value_counts(normalize=True)\n",
    "questions['tags'].describe()\n",
    "\n",
    "# Часть вопросов объединены по bundle_id в блоки до 5 вопросов, хотя большинство представлены по одиночке\n",
    "# Задачи разделены по темам на 7 разделов, больше всего посвящено 5му разделу, 2, 3 и 4"
   ]
  },
  {
   "cell_type": "code",
   "execution_count": 42,
   "id": "360a09ff",
   "metadata": {},
   "outputs": [
    {
     "data": {
      "text/plain": [
       "188"
      ]
     },
     "execution_count": 42,
     "metadata": {},
     "output_type": "execute_result"
    }
   ],
   "source": [
    "q_tags = set()\n",
    "for tag in questions['tags']:\n",
    "    try:\n",
    "        for t in tag.split():\n",
    "                q_tags.add(int(t))\n",
    "    except:\n",
    "        q_tags.add(int(t))\n",
    "len(q_tags)\n",
    "\n",
    "# Можно провести дополнительное исследование вопросов, используя кластеризацию по 188 дополнительным признакам 'tags'"
   ]
  },
  {
   "cell_type": "markdown",
   "id": "44b6ee8b",
   "metadata": {},
   "source": [
    "### Для дальнейшего исследования вопросов создадим единую таблицу по их ID с данными Train"
   ]
  },
  {
   "cell_type": "code",
   "execution_count": 44,
   "id": "81fbb43c",
   "metadata": {},
   "outputs": [
    {
     "data": {
      "text/plain": [
       "13500"
      ]
     },
     "execution_count": 44,
     "metadata": {},
     "output_type": "execute_result"
    }
   ],
   "source": [
    "tmp_df = train.loc[(train.content_type_id == 0), ['content_id', 'answered_correctly']]\n",
    "\n",
    "# Столбец question_id:\n",
    "\n",
    "q_list = list(tmp_df['content_id'].unique())\n",
    "len(q_list)\n",
    "\n",
    "# Всего 13500 уникальных вопросов. Мы берем этот список из файла Train, чтобы иметь правильный порядок данных"
   ]
  },
  {
   "cell_type": "code",
   "execution_count": 45,
   "id": "0793dd4c",
   "metadata": {},
   "outputs": [],
   "source": [
    "# Столбцы :\n",
    "# q_quant - общее количество ответов для каждого id\n",
    "# correct_quant - количество правильных ответов для каждого id\n",
    "\n",
    "q_quant = []\n",
    "correct_quant = []\n",
    "for q in q_list:\n",
    "    tmp = tmp_df[tmp_df['content_id'] == q]['answered_correctly'].count()\n",
    "    tmp1 = tmp_df[tmp_df['content_id'] == q]['answered_correctly'].sum()\n",
    "    q_quant.append(tmp)\n",
    "    correct_quant.append(tmp1)"
   ]
  },
  {
   "cell_type": "code",
   "execution_count": 46,
   "id": "eb87a657",
   "metadata": {},
   "outputs": [],
   "source": [
    "# Запишем полученные данные в единую таблицу:\n",
    "\n",
    "q_ex = pd.DataFrame({'question_id': q_list,\n",
    "                        'q_quant': q_quant,\n",
    "                        'correct_quant': correct_quant\n",
    "                       }\n",
    "                      )\n",
    "q_ex = q_ex.astype({'question_id': 'int16', 'q_quant': 'int32', 'correct_quant': 'int32'})"
   ]
  },
  {
   "cell_type": "code",
   "execution_count": 47,
   "id": "e12109e7",
   "metadata": {},
   "outputs": [],
   "source": [
    "# Внесем полученные данные в таблицу questions (пересечением), удалив ненужные столбцы:\n",
    "\n",
    "questions = questions.drop('correct_answer', axis=1)\n",
    "questions = pd.merge(questions, q_ex, how='inner')"
   ]
  },
  {
   "cell_type": "code",
   "execution_count": 48,
   "id": "b5741344",
   "metadata": {},
   "outputs": [
    {
     "data": {
      "text/html": [
       "<div>\n",
       "<style scoped>\n",
       "    .dataframe tbody tr th:only-of-type {\n",
       "        vertical-align: middle;\n",
       "    }\n",
       "\n",
       "    .dataframe tbody tr th {\n",
       "        vertical-align: top;\n",
       "    }\n",
       "\n",
       "    .dataframe thead th {\n",
       "        text-align: right;\n",
       "    }\n",
       "</style>\n",
       "<table border=\"1\" class=\"dataframe\">\n",
       "  <thead>\n",
       "    <tr style=\"text-align: right;\">\n",
       "      <th></th>\n",
       "      <th>question_id</th>\n",
       "      <th>bundle_id</th>\n",
       "      <th>part</th>\n",
       "      <th>q_quant</th>\n",
       "      <th>correct_quant</th>\n",
       "      <th>correct_percent</th>\n",
       "    </tr>\n",
       "  </thead>\n",
       "  <tbody>\n",
       "    <tr>\n",
       "      <th>count</th>\n",
       "      <td>13500.000000</td>\n",
       "      <td>13500.000000</td>\n",
       "      <td>13500.000000</td>\n",
       "      <td>13500.000000</td>\n",
       "      <td>13500.000000</td>\n",
       "      <td>13500.000000</td>\n",
       "    </tr>\n",
       "    <tr>\n",
       "      <th>mean</th>\n",
       "      <td>6760.953778</td>\n",
       "      <td>6760.465556</td>\n",
       "      <td>4.262296</td>\n",
       "      <td>726.266963</td>\n",
       "      <td>478.327778</td>\n",
       "      <td>0.712115</td>\n",
       "    </tr>\n",
       "    <tr>\n",
       "      <th>std</th>\n",
       "      <td>3905.579569</td>\n",
       "      <td>3905.539487</td>\n",
       "      <td>1.651777</td>\n",
       "      <td>1142.219033</td>\n",
       "      <td>642.560321</td>\n",
       "      <td>0.169706</td>\n",
       "    </tr>\n",
       "    <tr>\n",
       "      <th>min</th>\n",
       "      <td>0.000000</td>\n",
       "      <td>0.000000</td>\n",
       "      <td>1.000000</td>\n",
       "      <td>1.000000</td>\n",
       "      <td>0.000000</td>\n",
       "      <td>0.000000</td>\n",
       "    </tr>\n",
       "    <tr>\n",
       "      <th>25%</th>\n",
       "      <td>3377.750000</td>\n",
       "      <td>3377.250000</td>\n",
       "      <td>3.000000</td>\n",
       "      <td>173.000000</td>\n",
       "      <td>122.000000</td>\n",
       "      <td>0.608498</td>\n",
       "    </tr>\n",
       "    <tr>\n",
       "      <th>50%</th>\n",
       "      <td>6757.500000</td>\n",
       "      <td>6757.000000</td>\n",
       "      <td>5.000000</td>\n",
       "      <td>466.000000</td>\n",
       "      <td>317.000000</td>\n",
       "      <td>0.735702</td>\n",
       "    </tr>\n",
       "    <tr>\n",
       "      <th>75%</th>\n",
       "      <td>10147.250000</td>\n",
       "      <td>10145.000000</td>\n",
       "      <td>5.000000</td>\n",
       "      <td>849.000000</td>\n",
       "      <td>585.000000</td>\n",
       "      <td>0.840664</td>\n",
       "    </tr>\n",
       "    <tr>\n",
       "      <th>max</th>\n",
       "      <td>13522.000000</td>\n",
       "      <td>13522.000000</td>\n",
       "      <td>7.000000</td>\n",
       "      <td>21103.000000</td>\n",
       "      <td>14866.000000</td>\n",
       "      <td>1.000000</td>\n",
       "    </tr>\n",
       "  </tbody>\n",
       "</table>\n",
       "</div>"
      ],
      "text/plain": [
       "        question_id     bundle_id          part       q_quant  correct_quant  \\\n",
       "count  13500.000000  13500.000000  13500.000000  13500.000000   13500.000000   \n",
       "mean    6760.953778   6760.465556      4.262296    726.266963     478.327778   \n",
       "std     3905.579569   3905.539487      1.651777   1142.219033     642.560321   \n",
       "min        0.000000      0.000000      1.000000      1.000000       0.000000   \n",
       "25%     3377.750000   3377.250000      3.000000    173.000000     122.000000   \n",
       "50%     6757.500000   6757.000000      5.000000    466.000000     317.000000   \n",
       "75%    10147.250000  10145.000000      5.000000    849.000000     585.000000   \n",
       "max    13522.000000  13522.000000      7.000000  21103.000000   14866.000000   \n",
       "\n",
       "       correct_percent  \n",
       "count     13500.000000  \n",
       "mean          0.712115  \n",
       "std           0.169706  \n",
       "min           0.000000  \n",
       "25%           0.608498  \n",
       "50%           0.735702  \n",
       "75%           0.840664  \n",
       "max           1.000000  "
      ]
     },
     "execution_count": 48,
     "metadata": {},
     "output_type": "execute_result"
    }
   ],
   "source": [
    "# Добавим дополнительный столбец: процент правильных ответов(correct_percent)\n",
    "\n",
    "questions['correct_percent'] = questions['correct_quant'] / questions['q_quant']\n",
    "questions.describe()"
   ]
  },
  {
   "cell_type": "code",
   "execution_count": 49,
   "id": "d288ad85",
   "metadata": {},
   "outputs": [
    {
     "data": {
      "text/html": [
       "<div>\n",
       "<style scoped>\n",
       "    .dataframe tbody tr th:only-of-type {\n",
       "        vertical-align: middle;\n",
       "    }\n",
       "\n",
       "    .dataframe tbody tr th {\n",
       "        vertical-align: top;\n",
       "    }\n",
       "\n",
       "    .dataframe thead th {\n",
       "        text-align: right;\n",
       "    }\n",
       "</style>\n",
       "<table border=\"1\" class=\"dataframe\">\n",
       "  <thead>\n",
       "    <tr style=\"text-align: right;\">\n",
       "      <th></th>\n",
       "      <th>question_id</th>\n",
       "      <th>bundle_id</th>\n",
       "      <th>part</th>\n",
       "      <th>tags</th>\n",
       "      <th>q_quant</th>\n",
       "      <th>correct_quant</th>\n",
       "      <th>correct_percent</th>\n",
       "    </tr>\n",
       "  </thead>\n",
       "  <tbody>\n",
       "    <tr>\n",
       "      <th>0</th>\n",
       "      <td>0</td>\n",
       "      <td>0</td>\n",
       "      <td>1</td>\n",
       "      <td>51 131 162 38</td>\n",
       "      <td>691</td>\n",
       "      <td>628</td>\n",
       "      <td>0.908828</td>\n",
       "    </tr>\n",
       "    <tr>\n",
       "      <th>1</th>\n",
       "      <td>1</td>\n",
       "      <td>1</td>\n",
       "      <td>1</td>\n",
       "      <td>131 36 81</td>\n",
       "      <td>726</td>\n",
       "      <td>649</td>\n",
       "      <td>0.893939</td>\n",
       "    </tr>\n",
       "    <tr>\n",
       "      <th>2</th>\n",
       "      <td>2</td>\n",
       "      <td>2</td>\n",
       "      <td>1</td>\n",
       "      <td>131 101 162 92</td>\n",
       "      <td>4501</td>\n",
       "      <td>2531</td>\n",
       "      <td>0.562319</td>\n",
       "    </tr>\n",
       "    <tr>\n",
       "      <th>3</th>\n",
       "      <td>3</td>\n",
       "      <td>3</td>\n",
       "      <td>1</td>\n",
       "      <td>131 149 162 29</td>\n",
       "      <td>2276</td>\n",
       "      <td>1776</td>\n",
       "      <td>0.780316</td>\n",
       "    </tr>\n",
       "    <tr>\n",
       "      <th>4</th>\n",
       "      <td>4</td>\n",
       "      <td>4</td>\n",
       "      <td>1</td>\n",
       "      <td>131 5 162 38</td>\n",
       "      <td>3153</td>\n",
       "      <td>1980</td>\n",
       "      <td>0.627973</td>\n",
       "    </tr>\n",
       "    <tr>\n",
       "      <th>...</th>\n",
       "      <td>...</td>\n",
       "      <td>...</td>\n",
       "      <td>...</td>\n",
       "      <td>...</td>\n",
       "      <td>...</td>\n",
       "      <td>...</td>\n",
       "      <td>...</td>\n",
       "    </tr>\n",
       "    <tr>\n",
       "      <th>13495</th>\n",
       "      <td>13518</td>\n",
       "      <td>13518</td>\n",
       "      <td>5</td>\n",
       "      <td>14</td>\n",
       "      <td>86</td>\n",
       "      <td>68</td>\n",
       "      <td>0.790698</td>\n",
       "    </tr>\n",
       "    <tr>\n",
       "      <th>13496</th>\n",
       "      <td>13519</td>\n",
       "      <td>13519</td>\n",
       "      <td>5</td>\n",
       "      <td>8</td>\n",
       "      <td>86</td>\n",
       "      <td>50</td>\n",
       "      <td>0.581395</td>\n",
       "    </tr>\n",
       "    <tr>\n",
       "      <th>13497</th>\n",
       "      <td>13520</td>\n",
       "      <td>13520</td>\n",
       "      <td>5</td>\n",
       "      <td>73</td>\n",
       "      <td>82</td>\n",
       "      <td>56</td>\n",
       "      <td>0.682927</td>\n",
       "    </tr>\n",
       "    <tr>\n",
       "      <th>13498</th>\n",
       "      <td>13521</td>\n",
       "      <td>13521</td>\n",
       "      <td>5</td>\n",
       "      <td>125</td>\n",
       "      <td>87</td>\n",
       "      <td>68</td>\n",
       "      <td>0.781609</td>\n",
       "    </tr>\n",
       "    <tr>\n",
       "      <th>13499</th>\n",
       "      <td>13522</td>\n",
       "      <td>13522</td>\n",
       "      <td>5</td>\n",
       "      <td>55</td>\n",
       "      <td>86</td>\n",
       "      <td>77</td>\n",
       "      <td>0.895349</td>\n",
       "    </tr>\n",
       "  </tbody>\n",
       "</table>\n",
       "<p>13500 rows × 7 columns</p>\n",
       "</div>"
      ],
      "text/plain": [
       "       question_id  bundle_id  part            tags  q_quant  correct_quant  \\\n",
       "0                0          0     1   51 131 162 38      691            628   \n",
       "1                1          1     1       131 36 81      726            649   \n",
       "2                2          2     1  131 101 162 92     4501           2531   \n",
       "3                3          3     1  131 149 162 29     2276           1776   \n",
       "4                4          4     1    131 5 162 38     3153           1980   \n",
       "...            ...        ...   ...             ...      ...            ...   \n",
       "13495        13518      13518     5              14       86             68   \n",
       "13496        13519      13519     5               8       86             50   \n",
       "13497        13520      13520     5              73       82             56   \n",
       "13498        13521      13521     5             125       87             68   \n",
       "13499        13522      13522     5              55       86             77   \n",
       "\n",
       "       correct_percent  \n",
       "0             0.908828  \n",
       "1             0.893939  \n",
       "2             0.562319  \n",
       "3             0.780316  \n",
       "4             0.627973  \n",
       "...                ...  \n",
       "13495         0.790698  \n",
       "13496         0.581395  \n",
       "13497         0.682927  \n",
       "13498         0.781609  \n",
       "13499         0.895349  \n",
       "\n",
       "[13500 rows x 7 columns]"
      ]
     },
     "execution_count": 49,
     "metadata": {},
     "output_type": "execute_result"
    }
   ],
   "source": [
    "questions"
   ]
  },
  {
   "cell_type": "code",
   "execution_count": 50,
   "id": "72205e13",
   "metadata": {},
   "outputs": [
    {
     "data": {
      "text/plain": [
       "part\n",
       "5    0.665941\n",
       "6    0.699149\n",
       "7    0.723305\n",
       "4    0.732642\n",
       "2    0.748136\n",
       "3    0.751740\n",
       "1    0.819349\n",
       "Name: correct_percent, dtype: float64"
      ]
     },
     "execution_count": 50,
     "metadata": {},
     "output_type": "execute_result"
    }
   ],
   "source": [
    "# Посмотрим дополнительные условия, от которых может зависеть успешность ответа на вопрос: от номера раздела в тесте TOEIC ('part')\n",
    "\n",
    "questions.groupby('part').mean()['correct_percent'].sort_values()\n",
    "\n",
    "# По мере продвижения по разделам, видимо, сложность курса возрастает. \n",
    "# 5й раздел содержит максимальное число леций и заданий, однако средняя успеваемость студентов для него самая низкая."
   ]
  },
  {
   "cell_type": "markdown",
   "id": "ecd33561",
   "metadata": {},
   "source": [
    "## Исследуем данные lectures"
   ]
  },
  {
   "cell_type": "code",
   "execution_count": 51,
   "id": "8e121b21",
   "metadata": {},
   "outputs": [
    {
     "name": "stdout",
     "output_type": "stream",
     "text": [
      "<class 'pandas.core.frame.DataFrame'>\n",
      "RangeIndex: 418 entries, 0 to 417\n",
      "Data columns (total 4 columns):\n",
      " #   Column      Non-Null Count  Dtype \n",
      "---  ------      --------------  ----- \n",
      " 0   lecture_id  418 non-null    int16 \n",
      " 1   tag         418 non-null    int16 \n",
      " 2   part        418 non-null    int8  \n",
      " 3   type_of     418 non-null    object\n",
      "dtypes: int16(2), int8(1), object(1)\n",
      "memory usage: 5.4+ KB\n"
     ]
    }
   ],
   "source": [
    "lectures = pd.read_csv('lectures.csv', sep=',',\n",
    "                      dtype = {'lecture_id': 'int16', 'tag': 'int16', \n",
    "                               'part': 'int8', 'type_of': 'object'})\n",
    "lectures.info()"
   ]
  },
  {
   "cell_type": "code",
   "execution_count": 52,
   "id": "90c1af2a",
   "metadata": {},
   "outputs": [
    {
     "data": {
      "text/html": [
       "<div>\n",
       "<style scoped>\n",
       "    .dataframe tbody tr th:only-of-type {\n",
       "        vertical-align: middle;\n",
       "    }\n",
       "\n",
       "    .dataframe tbody tr th {\n",
       "        vertical-align: top;\n",
       "    }\n",
       "\n",
       "    .dataframe thead th {\n",
       "        text-align: right;\n",
       "    }\n",
       "</style>\n",
       "<table border=\"1\" class=\"dataframe\">\n",
       "  <thead>\n",
       "    <tr style=\"text-align: right;\">\n",
       "      <th></th>\n",
       "      <th>Column_Name</th>\n",
       "      <th>Num_Unique</th>\n",
       "      <th>Type</th>\n",
       "    </tr>\n",
       "  </thead>\n",
       "  <tbody>\n",
       "    <tr>\n",
       "      <th>0</th>\n",
       "      <td>type_of</td>\n",
       "      <td>4</td>\n",
       "      <td>object</td>\n",
       "    </tr>\n",
       "    <tr>\n",
       "      <th>1</th>\n",
       "      <td>part</td>\n",
       "      <td>7</td>\n",
       "      <td>int8</td>\n",
       "    </tr>\n",
       "    <tr>\n",
       "      <th>2</th>\n",
       "      <td>tag</td>\n",
       "      <td>151</td>\n",
       "      <td>int16</td>\n",
       "    </tr>\n",
       "    <tr>\n",
       "      <th>3</th>\n",
       "      <td>lecture_id</td>\n",
       "      <td>418</td>\n",
       "      <td>int16</td>\n",
       "    </tr>\n",
       "  </tbody>\n",
       "</table>\n",
       "</div>"
      ],
      "text/plain": [
       "  Column_Name  Num_Unique    Type\n",
       "0     type_of           4  object\n",
       "1        part           7    int8\n",
       "2         tag         151   int16\n",
       "3  lecture_id         418   int16"
      ]
     },
     "metadata": {},
     "output_type": "display_data"
    }
   ],
   "source": [
    "# Исследуем количество уникальных значений для разных колонок\n",
    "\n",
    "unique_list_lec = []\n",
    "for col in lectures.columns:\n",
    "    item = (col, lectures[col].nunique(), lectures[col].dtype)\n",
    "    unique_list_lec.append(item)\n",
    "unique_counts_lec = pd.DataFrame(unique_list_lec,\n",
    "                                 columns=['Column_Name', 'Num_Unique', 'Type']\n",
    "                                ).sort_values(by='Num_Unique',  ignore_index=True)\n",
    "display(unique_counts_lec)\n"
   ]
  },
  {
   "cell_type": "code",
   "execution_count": 53,
   "id": "a23239fc",
   "metadata": {},
   "outputs": [
    {
     "data": {
      "text/plain": [
       "136    7\n",
       "27     6\n",
       "161    6\n",
       "74     6\n",
       "134    6\n",
       "Name: tag, dtype: int64"
      ]
     },
     "execution_count": 53,
     "metadata": {},
     "output_type": "execute_result"
    }
   ],
   "source": [
    "lectures['part'].value_counts(normalize=True)\n",
    "lectures['type_of'].value_counts(normalize=True)\n",
    "lectures['tag'].value_counts().head()"
   ]
  },
  {
   "cell_type": "code",
   "execution_count": 54,
   "id": "f0dc7cee",
   "metadata": {},
   "outputs": [
    {
     "data": {
      "text/plain": [
       "402"
      ]
     },
     "execution_count": 54,
     "metadata": {},
     "output_type": "execute_result"
    }
   ],
   "source": [
    "# Для дальнейшего исследования лекций создадим единую таблицу по их ID с данными Train.\n",
    "\n",
    "l_list = list(train[train['content_type_id'] == 1]['content_id'].unique())\n",
    "len(l_list)\n",
    "\n",
    "# Всего 402 уникальных лекций. Мы берем этот список из файла Train, чтобы иметь правильный порядок данных"
   ]
  },
  {
   "cell_type": "code",
   "execution_count": 55,
   "id": "a1ac639d",
   "metadata": {},
   "outputs": [],
   "source": [
    "# Посчитаем количество просмотров лекций для каждого id:\n",
    "\n",
    "l_quant = []\n",
    "for l in l_list:\n",
    "    tmp_l = train[(train['content_id'] == l)]['content_id'].count()\n",
    "    l_quant.append(tmp_l)"
   ]
  },
  {
   "cell_type": "code",
   "execution_count": 56,
   "id": "69644c32",
   "metadata": {},
   "outputs": [],
   "source": [
    "# Запишем полученные данные в единую таблицу:\n",
    "\n",
    "l_ex = pd.DataFrame({'lecture_id': l_list,\n",
    "                        'l_quant': l_quant\n",
    "                       }\n",
    "                      )\n",
    "l_ex = l_ex.astype({'lecture_id': 'int16', 'l_quant': 'int32'})"
   ]
  },
  {
   "cell_type": "code",
   "execution_count": 57,
   "id": "fe54db9f",
   "metadata": {},
   "outputs": [
    {
     "data": {
      "text/html": [
       "<div>\n",
       "<style scoped>\n",
       "    .dataframe tbody tr th:only-of-type {\n",
       "        vertical-align: middle;\n",
       "    }\n",
       "\n",
       "    .dataframe tbody tr th {\n",
       "        vertical-align: top;\n",
       "    }\n",
       "\n",
       "    .dataframe thead th {\n",
       "        text-align: right;\n",
       "    }\n",
       "</style>\n",
       "<table border=\"1\" class=\"dataframe\">\n",
       "  <thead>\n",
       "    <tr style=\"text-align: right;\">\n",
       "      <th></th>\n",
       "      <th>lecture_id</th>\n",
       "      <th>tag</th>\n",
       "      <th>part</th>\n",
       "      <th>type_of</th>\n",
       "      <th>l_quant</th>\n",
       "    </tr>\n",
       "  </thead>\n",
       "  <tbody>\n",
       "    <tr>\n",
       "      <th>0</th>\n",
       "      <td>89</td>\n",
       "      <td>159</td>\n",
       "      <td>5</td>\n",
       "      <td>concept</td>\n",
       "      <td>2437</td>\n",
       "    </tr>\n",
       "    <tr>\n",
       "      <th>1</th>\n",
       "      <td>100</td>\n",
       "      <td>70</td>\n",
       "      <td>1</td>\n",
       "      <td>concept</td>\n",
       "      <td>1794</td>\n",
       "    </tr>\n",
       "    <tr>\n",
       "      <th>2</th>\n",
       "      <td>185</td>\n",
       "      <td>45</td>\n",
       "      <td>6</td>\n",
       "      <td>concept</td>\n",
       "      <td>4701</td>\n",
       "    </tr>\n",
       "    <tr>\n",
       "      <th>3</th>\n",
       "      <td>192</td>\n",
       "      <td>79</td>\n",
       "      <td>5</td>\n",
       "      <td>solving question</td>\n",
       "      <td>1111</td>\n",
       "    </tr>\n",
       "    <tr>\n",
       "      <th>4</th>\n",
       "      <td>317</td>\n",
       "      <td>156</td>\n",
       "      <td>5</td>\n",
       "      <td>solving question</td>\n",
       "      <td>1067</td>\n",
       "    </tr>\n",
       "    <tr>\n",
       "      <th>...</th>\n",
       "      <td>...</td>\n",
       "      <td>...</td>\n",
       "      <td>...</td>\n",
       "      <td>...</td>\n",
       "      <td>...</td>\n",
       "    </tr>\n",
       "    <tr>\n",
       "      <th>397</th>\n",
       "      <td>32491</td>\n",
       "      <td>179</td>\n",
       "      <td>5</td>\n",
       "      <td>solving question</td>\n",
       "      <td>163</td>\n",
       "    </tr>\n",
       "    <tr>\n",
       "      <th>398</th>\n",
       "      <td>32535</td>\n",
       "      <td>8</td>\n",
       "      <td>5</td>\n",
       "      <td>solving question</td>\n",
       "      <td>348</td>\n",
       "    </tr>\n",
       "    <tr>\n",
       "      <th>399</th>\n",
       "      <td>32570</td>\n",
       "      <td>113</td>\n",
       "      <td>3</td>\n",
       "      <td>solving question</td>\n",
       "      <td>285</td>\n",
       "    </tr>\n",
       "    <tr>\n",
       "      <th>400</th>\n",
       "      <td>32625</td>\n",
       "      <td>142</td>\n",
       "      <td>2</td>\n",
       "      <td>concept</td>\n",
       "      <td>774</td>\n",
       "    </tr>\n",
       "    <tr>\n",
       "      <th>401</th>\n",
       "      <td>32736</td>\n",
       "      <td>82</td>\n",
       "      <td>3</td>\n",
       "      <td>concept</td>\n",
       "      <td>762</td>\n",
       "    </tr>\n",
       "  </tbody>\n",
       "</table>\n",
       "<p>402 rows × 5 columns</p>\n",
       "</div>"
      ],
      "text/plain": [
       "     lecture_id  tag  part           type_of  l_quant\n",
       "0            89  159     5           concept     2437\n",
       "1           100   70     1           concept     1794\n",
       "2           185   45     6           concept     4701\n",
       "3           192   79     5  solving question     1111\n",
       "4           317  156     5  solving question     1067\n",
       "..          ...  ...   ...               ...      ...\n",
       "397       32491  179     5  solving question      163\n",
       "398       32535    8     5  solving question      348\n",
       "399       32570  113     3  solving question      285\n",
       "400       32625  142     2           concept      774\n",
       "401       32736   82     3           concept      762\n",
       "\n",
       "[402 rows x 5 columns]"
      ]
     },
     "metadata": {},
     "output_type": "display_data"
    }
   ],
   "source": [
    "# Внесем полученные данные в таблицу lectures (пересечением):\n",
    "\n",
    "lectures = pd.merge(lectures, l_ex, how='inner')\n",
    "display(lectures)"
   ]
  },
  {
   "cell_type": "code",
   "execution_count": 58,
   "id": "69b08f32",
   "metadata": {},
   "outputs": [
    {
     "data": {
      "text/html": [
       "<div>\n",
       "<style scoped>\n",
       "    .dataframe tbody tr th:only-of-type {\n",
       "        vertical-align: middle;\n",
       "    }\n",
       "\n",
       "    .dataframe tbody tr th {\n",
       "        vertical-align: top;\n",
       "    }\n",
       "\n",
       "    .dataframe thead th {\n",
       "        text-align: right;\n",
       "    }\n",
       "</style>\n",
       "<table border=\"1\" class=\"dataframe\">\n",
       "  <thead>\n",
       "    <tr style=\"text-align: right;\">\n",
       "      <th></th>\n",
       "      <th>lecture_id</th>\n",
       "      <th>tag</th>\n",
       "      <th>part</th>\n",
       "      <th>type_of</th>\n",
       "      <th>l_quant</th>\n",
       "    </tr>\n",
       "  </thead>\n",
       "  <tbody>\n",
       "    <tr>\n",
       "      <th>121</th>\n",
       "      <td>10688</td>\n",
       "      <td>39</td>\n",
       "      <td>7</td>\n",
       "      <td>concept</td>\n",
       "      <td>13548</td>\n",
       "    </tr>\n",
       "    <tr>\n",
       "      <th>5</th>\n",
       "      <td>335</td>\n",
       "      <td>114</td>\n",
       "      <td>2</td>\n",
       "      <td>concept</td>\n",
       "      <td>5952</td>\n",
       "    </tr>\n",
       "    <tr>\n",
       "      <th>44</th>\n",
       "      <td>3852</td>\n",
       "      <td>161</td>\n",
       "      <td>4</td>\n",
       "      <td>solving question</td>\n",
       "      <td>5754</td>\n",
       "    </tr>\n",
       "    <tr>\n",
       "      <th>2</th>\n",
       "      <td>185</td>\n",
       "      <td>45</td>\n",
       "      <td>6</td>\n",
       "      <td>concept</td>\n",
       "      <td>4701</td>\n",
       "    </tr>\n",
       "    <tr>\n",
       "      <th>61</th>\n",
       "      <td>5694</td>\n",
       "      <td>140</td>\n",
       "      <td>2</td>\n",
       "      <td>concept</td>\n",
       "      <td>4468</td>\n",
       "    </tr>\n",
       "  </tbody>\n",
       "</table>\n",
       "</div>"
      ],
      "text/plain": [
       "     lecture_id  tag  part           type_of  l_quant\n",
       "121       10688   39     7           concept    13548\n",
       "5           335  114     2           concept     5952\n",
       "44         3852  161     4  solving question     5754\n",
       "2           185   45     6           concept     4701\n",
       "61         5694  140     2           concept     4468"
      ]
     },
     "execution_count": 58,
     "metadata": {},
     "output_type": "execute_result"
    }
   ],
   "source": [
    "# Общий рейтинг популярности для лекций:\n",
    "\n",
    "lectures.sort_values(by=['l_quant'], ascending=False).head()"
   ]
  },
  {
   "cell_type": "code",
   "execution_count": 59,
   "id": "a3f6edd4",
   "metadata": {},
   "outputs": [
    {
     "data": {
      "text/plain": [
       "part\n",
       "5    122459\n",
       "2     55625\n",
       "6     48867\n",
       "1     35155\n",
       "7     26280\n",
       "4     18916\n",
       "3     15302\n",
       "Name: l_quant, dtype: int32"
      ]
     },
     "execution_count": 59,
     "metadata": {},
     "output_type": "execute_result"
    }
   ],
   "source": [
    "# Рейтинг популярности для лекций, в зависимости от раздела:\n",
    "\n",
    "lectures.groupby('part').sum()['l_quant'].sort_values(ascending=False)"
   ]
  },
  {
   "cell_type": "code",
   "execution_count": 60,
   "id": "e0296f0a",
   "metadata": {},
   "outputs": [
    {
     "name": "stdout",
     "output_type": "stream",
     "text": [
      "1 651.0185185185185\n",
      "2 993.3035714285714\n",
      "3 805.3684210526316\n",
      "4 610.1935483870968\n",
      "5 868.5035460992908\n",
      "6 698.1\n",
      "7 847.741935483871\n"
     ]
    }
   ],
   "source": [
    "# Рейтинг относительной популярности лекций по разделам:\n",
    "\n",
    "for part in range(1, 8):\n",
    "    print(part, lectures.groupby('part').sum()['l_quant'].sort_values(ascending=False)[part]/lectures['part'].value_counts()[part])\n",
    "    \n",
    "# Наибольшее число просмотров имеет лекция из 7го раздела, при этом самая высокая средневзвешенная популярность у лекций 2 раздела"
   ]
  },
  {
   "cell_type": "code",
   "execution_count": 61,
   "id": "ca287aec",
   "metadata": {},
   "outputs": [
    {
     "data": {
      "text/plain": [
       "tag\n",
       "39     13548\n",
       "161     9147\n",
       "27      7995\n",
       "62      7900\n",
       "114     6803\n",
       "Name: l_quant, dtype: int32"
      ]
     },
     "execution_count": 61,
     "metadata": {},
     "output_type": "execute_result"
    }
   ],
   "source": [
    "# Рейтинг популярности для лекций, в зависимости от тега лекции:\n",
    "\n",
    "lectures.groupby('tag').sum()['l_quant'].sort_values(ascending=False).head()"
   ]
  },
  {
   "cell_type": "markdown",
   "id": "9323fd2a",
   "metadata": {},
   "source": [
    "## Построим новую таблицу для дополнительного анализа отдельных разделов"
   ]
  },
  {
   "cell_type": "code",
   "execution_count": 66,
   "id": "5c4f8247",
   "metadata": {},
   "outputs": [
    {
     "data": {
      "text/html": [
       "<div>\n",
       "<style scoped>\n",
       "    .dataframe tbody tr th:only-of-type {\n",
       "        vertical-align: middle;\n",
       "    }\n",
       "\n",
       "    .dataframe tbody tr th {\n",
       "        vertical-align: top;\n",
       "    }\n",
       "\n",
       "    .dataframe thead th {\n",
       "        text-align: right;\n",
       "    }\n",
       "</style>\n",
       "<table border=\"1\" class=\"dataframe\">\n",
       "  <thead>\n",
       "    <tr style=\"text-align: right;\">\n",
       "      <th></th>\n",
       "      <th>part</th>\n",
       "      <th>ques_quant_p</th>\n",
       "      <th>ans_quant_p</th>\n",
       "      <th>right_quant_p</th>\n",
       "      <th>right_perc_p</th>\n",
       "      <th>lec_quant_p</th>\n",
       "      <th>lec_view_p</th>\n",
       "      <th>norm_lec_pop_p</th>\n",
       "    </tr>\n",
       "  </thead>\n",
       "  <tbody>\n",
       "    <tr>\n",
       "      <th>0</th>\n",
       "      <td>1</td>\n",
       "      <td>992</td>\n",
       "      <td>738264</td>\n",
       "      <td>550822</td>\n",
       "      <td>0.746</td>\n",
       "      <td>54</td>\n",
       "      <td>35155</td>\n",
       "      <td>0.655</td>\n",
       "    </tr>\n",
       "    <tr>\n",
       "      <th>1</th>\n",
       "      <td>2</td>\n",
       "      <td>1647</td>\n",
       "      <td>1862272</td>\n",
       "      <td>1324262</td>\n",
       "      <td>0.711</td>\n",
       "      <td>56</td>\n",
       "      <td>55625</td>\n",
       "      <td>1.000</td>\n",
       "    </tr>\n",
       "    <tr>\n",
       "      <th>2</th>\n",
       "      <td>3</td>\n",
       "      <td>1559</td>\n",
       "      <td>849569</td>\n",
       "      <td>598613</td>\n",
       "      <td>0.705</td>\n",
       "      <td>19</td>\n",
       "      <td>15302</td>\n",
       "      <td>0.811</td>\n",
       "    </tr>\n",
       "    <tr>\n",
       "      <th>5</th>\n",
       "      <td>6</td>\n",
       "      <td>1207</td>\n",
       "      <td>1048356</td>\n",
       "      <td>701305</td>\n",
       "      <td>0.669</td>\n",
       "      <td>70</td>\n",
       "      <td>48867</td>\n",
       "      <td>0.703</td>\n",
       "    </tr>\n",
       "    <tr>\n",
       "      <th>6</th>\n",
       "      <td>7</td>\n",
       "      <td>1150</td>\n",
       "      <td>500714</td>\n",
       "      <td>332210</td>\n",
       "      <td>0.663</td>\n",
       "      <td>31</td>\n",
       "      <td>26280</td>\n",
       "      <td>0.853</td>\n",
       "    </tr>\n",
       "    <tr>\n",
       "      <th>3</th>\n",
       "      <td>4</td>\n",
       "      <td>1439</td>\n",
       "      <td>799656</td>\n",
       "      <td>507638</td>\n",
       "      <td>0.635</td>\n",
       "      <td>31</td>\n",
       "      <td>18916</td>\n",
       "      <td>0.614</td>\n",
       "    </tr>\n",
       "    <tr>\n",
       "      <th>4</th>\n",
       "      <td>5</td>\n",
       "      <td>5506</td>\n",
       "      <td>4005773</td>\n",
       "      <td>2442575</td>\n",
       "      <td>0.610</td>\n",
       "      <td>141</td>\n",
       "      <td>122459</td>\n",
       "      <td>0.874</td>\n",
       "    </tr>\n",
       "  </tbody>\n",
       "</table>\n",
       "</div>"
      ],
      "text/plain": [
       "   part  ques_quant_p  ans_quant_p  right_quant_p  right_perc_p  lec_quant_p  \\\n",
       "0     1           992       738264         550822         0.746           54   \n",
       "1     2          1647      1862272        1324262         0.711           56   \n",
       "2     3          1559       849569         598613         0.705           19   \n",
       "5     6          1207      1048356         701305         0.669           70   \n",
       "6     7          1150       500714         332210         0.663           31   \n",
       "3     4          1439       799656         507638         0.635           31   \n",
       "4     5          5506      4005773        2442575         0.610          141   \n",
       "\n",
       "   lec_view_p  norm_lec_pop_p  \n",
       "0       35155           0.655  \n",
       "1       55625           1.000  \n",
       "2       15302           0.811  \n",
       "5       48867           0.703  \n",
       "6       26280           0.853  \n",
       "3       18916           0.614  \n",
       "4      122459           0.874  "
      ]
     },
     "execution_count": 66,
     "metadata": {},
     "output_type": "execute_result"
    }
   ],
   "source": [
    "# Столбец part\n",
    "\n",
    "part_list = list(range(1, 8))\n",
    "\n",
    "# Столбец количество вопросов в каждом разделе\n",
    "\n",
    "ques_quant_p = [questions[questions.part == p]['question_id'].count() for p in range(1,8)]\n",
    "\n",
    "# Столбец количество ответов в каждом разделе\n",
    "\n",
    "ans_quant_p = [questions[questions.part == p]['q_quant'].sum() for p in range(1,8)]\n",
    "\n",
    "# Столбец количество правильных ответов в каждом разделе\n",
    "\n",
    "right_quant_p = [questions[questions.part == p]['correct_quant'].sum() for p in range(1,8)]\n",
    "\n",
    "# Столбец относительное количество правильных ответов в каждом разделе\n",
    "\n",
    "right_perc_p = [round(questions[questions.part == p]['correct_quant'].sum()/questions[questions.part == p]['q_quant'].sum(), 3) for p in range(1,8)]\n",
    "\n",
    "# Столбец количество лекций в каждом разделе\n",
    "\n",
    "lec_quant_p = [lectures[lectures.part == p]['lecture_id'].count() for p in range(1,8)]\n",
    "\n",
    "# Столбец количество просмотров лекций в каждом разделе\n",
    "\n",
    "lec_view_p = [lectures[lectures.part == p]['l_quant'].sum() for p in range(1,8)]\n",
    "\n",
    "# Популярность лекций в каждом разделе\n",
    "\n",
    "lec_pop_p = [lectures[lectures.part == p]['l_quant'].sum()/lectures[lectures.part == p]['lecture_id'].count() for p in range(1,8)]\n",
    "\n",
    "# Нормализованная популярность лекций в каждом разделе\n",
    "\n",
    "norm_lec_pop_p = [round(pop / max(lec_pop_p), 3) for pop in lec_pop_p]\n",
    "\n",
    "# Запишем полученные данные в единую таблицу\n",
    "\n",
    "part_df = pd.DataFrame({'part': part_list,\n",
    "                        'ques_quant_p': ques_quant_p,\n",
    "                        'ans_quant_p': ans_quant_p,\n",
    "                        'right_quant_p': right_quant_p,\n",
    "                        'right_perc_p': right_perc_p,\n",
    "                        'lec_quant_p': lec_quant_p,\n",
    "                        'lec_view_p': lec_view_p,\n",
    "                        'norm_lec_pop_p': norm_lec_pop_p\n",
    "                       }\n",
    "                      )\n",
    "part_df = part_df.astype({'part': 'int8',\n",
    "                        'ques_quant_p': 'int16',\n",
    "                        'ans_quant_p': 'int64',\n",
    "                        'right_quant_p': 'int64',\n",
    "                        'right_perc_p': 'float32',\n",
    "                        'lec_quant_p': 'int16',\n",
    "                        'lec_view_p': 'int32',\n",
    "                        'norm_lec_pop_p': 'float32'\n",
    "                       })\n",
    "\n",
    "part_df.sort_values(by='right_perc_p', ascending=False)\n"
   ]
  },
  {
   "cell_type": "markdown",
   "id": "2aca4d1b",
   "metadata": {},
   "source": [
    "## Выводы:\n",
    "#### 1. Лекции бывают 4 типов: вступление, постановка целей, изложение материала и решение задач.\n",
    "#### 2. Задачи и лекции разделены по темам на 7 разделов\n",
    "#### 3. Большинство лекций посвящены теории, немного меньше - решению задач. Доля остальных несущественна.\n",
    "#### 4. Наибольшее число просмотров имеет лекция из 7-го раздела.\n",
    "#### 5. Самая высокая средневзвешенная популярность у лекций 2 раздела.\n",
    "#### 6. 5-ый раздел - самый насыщенный по материалу, 6-ой и 1-ый - более теоретические, а 3-ий и 4-ый - более прикладные.\n",
    "#### 7. По мере продвижения по разделам, видимо, сложность курса возрастает.\n",
    "#### 8. 5-ый раздел содержит максимальное число лекций и заданий, однако средняя успеваемость студентов для него самая низкая.\n",
    "#### 9. Успеваемость по 4-му и 6-му разделу, вероятно, можно улучшить, добавив в них качественные лекции, а по 7-му разделу - добавив практические задания."
   ]
  },
  {
   "cell_type": "code",
   "execution_count": null,
   "id": "9e6d0d5f",
   "metadata": {},
   "outputs": [],
   "source": []
  }
 ],
 "metadata": {
  "kernelspec": {
   "display_name": "Python 3 (ipykernel)",
   "language": "python",
   "name": "python3"
  },
  "language_info": {
   "codemirror_mode": {
    "name": "ipython",
    "version": 3
   },
   "file_extension": ".py",
   "mimetype": "text/x-python",
   "name": "python",
   "nbconvert_exporter": "python",
   "pygments_lexer": "ipython3",
   "version": "3.9.12"
  }
 },
 "nbformat": 4,
 "nbformat_minor": 5
}
