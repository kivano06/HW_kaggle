{
 "cells": [
  {
   "cell_type": "code",
   "execution_count": 1,
   "id": "41b67586",
   "metadata": {},
   "outputs": [],
   "source": [
    "!pip install -q -U kaggle_environments"
   ]
  },
  {
   "cell_type": "code",
   "execution_count": 2,
   "id": "0edca82f",
   "metadata": {},
   "outputs": [],
   "source": [
    "import numpy as np\n",
    "import pandas as pd\n",
    "import random\n",
    "\n",
    "import matplotlib.pyplot as plt\n",
    "import seaborn as sns\n",
    "\n",
    "from kaggle_environments import make, evaluate\n"
   ]
  },
  {
   "cell_type": "markdown",
   "id": "d9ab563a",
   "metadata": {},
   "source": [
    "## 1. Агент, который всегда играет камень\n",
    "\n"
   ]
  },
  {
   "cell_type": "code",
   "execution_count": 4,
   "id": "e60d6eb2",
   "metadata": {},
   "outputs": [
    {
     "name": "stdout",
     "output_type": "stream",
     "text": [
      "Writing rock_agent.py\n"
     ]
    }
   ],
   "source": [
    "%%writefile rock_agent.py\n",
    "\n",
    "#0 - rock\n",
    "#1 - paper\n",
    "#2 - scissors\n",
    "def rock_agent(observation, configuration):\n",
    "    return 0"
   ]
  },
  {
   "cell_type": "code",
   "execution_count": 5,
   "id": "151f6311",
   "metadata": {},
   "outputs": [
    {
     "data": {
      "text/plain": [
       "[[-98.0, 98.0]]"
      ]
     },
     "execution_count": 5,
     "metadata": {},
     "output_type": "execute_result"
    }
   ],
   "source": [
    "evaluate(\n",
    "    \"rps\", #environment to use - no need to change\n",
    "    [\"rock_agent.py\", \"statistical\"], #agents to evaluate\n",
    "    configuration={\"episodeSteps\": 100}, #number of episodes\n",
    ")"
   ]
  },
  {
   "cell_type": "markdown",
   "id": "405b8c72",
   "metadata": {},
   "source": [
    "## 2. Агент, который всегда играет бумагу\n"
   ]
  },
  {
   "cell_type": "code",
   "execution_count": 6,
   "id": "2c7ea689",
   "metadata": {},
   "outputs": [
    {
     "name": "stdout",
     "output_type": "stream",
     "text": [
      "Writing paper_agent.py\n"
     ]
    }
   ],
   "source": [
    "%%writefile paper_agent.py\n",
    "\n",
    "def paper_agent(observation, configuration):\n",
    "    return 1"
   ]
  },
  {
   "cell_type": "code",
   "execution_count": 7,
   "id": "8e187f44",
   "metadata": {},
   "outputs": [
    {
     "data": {
      "text/plain": [
       "[[-97.0, 97.0]]"
      ]
     },
     "execution_count": 7,
     "metadata": {},
     "output_type": "execute_result"
    }
   ],
   "source": [
    "evaluate(\n",
    "    \"rps\", #environment to use - no need to change\n",
    "    [\"paper_agent.py\", \"statistical\"], #agents to evaluate\n",
    "    configuration={\"episodeSteps\": 100} #number of episodes \n",
    ")"
   ]
  },
  {
   "cell_type": "markdown",
   "id": "451b3012",
   "metadata": {},
   "source": [
    "## 3. Агент, который всегда играет ножницы\n"
   ]
  },
  {
   "cell_type": "code",
   "execution_count": 8,
   "id": "9cd03978",
   "metadata": {},
   "outputs": [
    {
     "name": "stdout",
     "output_type": "stream",
     "text": [
      "Writing scissors_agent.py\n"
     ]
    }
   ],
   "source": [
    "%%writefile scissors_agent.py\n",
    "\n",
    "def scissors_agent(observation, configuration):\n",
    "    return 2"
   ]
  },
  {
   "cell_type": "code",
   "execution_count": 9,
   "id": "fe84a181",
   "metadata": {},
   "outputs": [
    {
     "data": {
      "text/plain": [
       "[[-99.0, 99.0]]"
      ]
     },
     "execution_count": 9,
     "metadata": {},
     "output_type": "execute_result"
    }
   ],
   "source": [
    "evaluate(\n",
    "    \"rps\", #environment to use - no need to change\n",
    "    [\"scissors_agent.py\", \"statistical\"], #agents to evaluate\n",
    "    configuration={\"episodeSteps\": 100}, #number of episodes\n",
    ")"
   ]
  },
  {
   "cell_type": "markdown",
   "id": "d457bcb6",
   "metadata": {},
   "source": [
    "## 4. Агент, который играет так же, как и соперник в прошлом ходу"
   ]
  },
  {
   "cell_type": "code",
   "execution_count": 10,
   "id": "9539679a",
   "metadata": {},
   "outputs": [
    {
     "name": "stdout",
     "output_type": "stream",
     "text": [
      "Writing twin_opponent.py\n"
     ]
    }
   ],
   "source": [
    "%%writefile twin_opponent.py\n",
    "\n",
    "import random\n",
    "\n",
    "def copy_opponent(observation, configuration):\n",
    "    if observation.step > 0:\n",
    "        return observation.lastOpponentAction\n",
    "    else:\n",
    "        return random.randrange(0, configuration.signs)"
   ]
  },
  {
   "cell_type": "code",
   "execution_count": 11,
   "id": "0053e9e9",
   "metadata": {},
   "outputs": [
    {
     "data": {
      "text/plain": [
       "[[-21.0, 21.0]]"
      ]
     },
     "execution_count": 11,
     "metadata": {},
     "output_type": "execute_result"
    }
   ],
   "source": [
    "evaluate(\n",
    "    \"rps\", #environment to use - no need to change\n",
    "    [\"twin_opponent.py\", \"statistical\"], #agents to evaluate\n",
    "    configuration={\"episodeSteps\": 100}, #number of episodes\n",
    ")"
   ]
  },
  {
   "cell_type": "markdown",
   "id": "3d89940c",
   "metadata": {},
   "source": [
    "## 5. Агент который всегда играет рандомно\n"
   ]
  },
  {
   "cell_type": "code",
   "execution_count": 12,
   "id": "1bb0bf03",
   "metadata": {},
   "outputs": [
    {
     "name": "stdout",
     "output_type": "stream",
     "text": [
      "Writing random_opponent.py\n"
     ]
    }
   ],
   "source": [
    "%%writefile random_opponent.py\n",
    "\n",
    "import random\n",
    "\n",
    "def random_opponent(observation, configuration):\n",
    "    return random.randrange(0, configuration.signs)"
   ]
  },
  {
   "cell_type": "code",
   "execution_count": 13,
   "id": "eb52763b",
   "metadata": {},
   "outputs": [
    {
     "data": {
      "text/plain": [
       "[[0, 0]]"
      ]
     },
     "execution_count": 13,
     "metadata": {},
     "output_type": "execute_result"
    }
   ],
   "source": [
    "evaluate(\n",
    "    \"rps\", #environment to use - no need to change\n",
    "    [\"random_opponent.py\", \"statistical\"], #agents to evaluate\n",
    "    configuration={\"episodeSteps\": 100}, #number of episodes\n",
    ")\n"
   ]
  },
  {
   "cell_type": "markdown",
   "id": "07cb4174",
   "metadata": {},
   "source": [
    "## 6. Агент, который производит ход, идентичный ходу соперника"
   ]
  },
  {
   "cell_type": "code",
   "execution_count": 14,
   "id": "fc094490",
   "metadata": {},
   "outputs": [
    {
     "name": "stdout",
     "output_type": "stream",
     "text": [
      "Writing copy_opponent.py\n"
     ]
    }
   ],
   "source": [
    "%%writefile copy_opponent.py\n",
    "\n",
    "import random\n",
    "\n",
    "def copy_opponent(observation, configuration):\n",
    "    if observation.step > 0: return observation.lastOpponentAction\n",
    "    return random.randrange(0, configuration.signs)\n"
   ]
  },
  {
   "cell_type": "code",
   "execution_count": 15,
   "id": "b5e5f0c5",
   "metadata": {},
   "outputs": [
    {
     "data": {
      "text/plain": [
       "[[-20.0, 20.0]]"
      ]
     },
     "execution_count": 15,
     "metadata": {},
     "output_type": "execute_result"
    }
   ],
   "source": [
    "evaluate(\n",
    "    \"rps\", #environment to use - no need to change\n",
    "    [\"copy_opponent.py\", \"statistical\"], #agents to evaluate\n",
    "    configuration={\"episodeSteps\": 100}, #number of episodes\n",
    ")"
   ]
  },
  {
   "cell_type": "markdown",
   "id": "89d6e029",
   "metadata": {},
   "source": [
    "## 7. Агент, который играет всегда \"не ножницы\"\n",
    "\n"
   ]
  },
  {
   "cell_type": "code",
   "execution_count": 16,
   "id": "0aee7d17",
   "metadata": {},
   "outputs": [
    {
     "name": "stdout",
     "output_type": "stream",
     "text": [
      "Writing not_scissors.py\n"
     ]
    }
   ],
   "source": [
    "%%writefile not_scissors.py\n",
    "\n",
    "import random\n",
    "\n",
    "def not_scissors(observation, configuration):\n",
    "    return random.randrange(0, configuration.signs - 1)"
   ]
  },
  {
   "cell_type": "code",
   "execution_count": 17,
   "id": "44de5fc4",
   "metadata": {},
   "outputs": [
    {
     "data": {
      "text/plain": [
       "[[-35.0, 35.0]]"
      ]
     },
     "execution_count": 17,
     "metadata": {},
     "output_type": "execute_result"
    }
   ],
   "source": [
    "evaluate(\n",
    "    \"rps\", #environment to use - no need to change\n",
    "    [\"not_scissors.py\", \"statistical\"], #agents to evaluate\n",
    "    configuration={\"episodeSteps\": 100}, #number of episodes\n",
    ")"
   ]
  },
  {
   "cell_type": "markdown",
   "id": "c78340ea",
   "metadata": {},
   "source": [
    "## 8. Агент, который играет всегда \"не бумагу\""
   ]
  },
  {
   "cell_type": "code",
   "execution_count": 18,
   "id": "c2e6dc94",
   "metadata": {},
   "outputs": [
    {
     "name": "stdout",
     "output_type": "stream",
     "text": [
      "Writing not_paper.py\n"
     ]
    }
   ],
   "source": [
    "%%writefile not_paper.py\n",
    "\n",
    "import random\n",
    "\n",
    "def not_paper(observation, configuration):\n",
    "    return random.randrange(0, configuration.signs, 2)"
   ]
  },
  {
   "cell_type": "code",
   "execution_count": 19,
   "id": "089f5790",
   "metadata": {},
   "outputs": [
    {
     "data": {
      "text/plain": [
       "[[-40.0, 40.0]]"
      ]
     },
     "execution_count": 19,
     "metadata": {},
     "output_type": "execute_result"
    }
   ],
   "source": [
    "evaluate(\n",
    "    \"rps\", #environment to use - no need to change\n",
    "    [\"not_paper.py\", \"statistical\"], #agents to evaluate\n",
    "    configuration={\"episodeSteps\": 100}, #number of episodes\n",
    ")"
   ]
  },
  {
   "cell_type": "markdown",
   "id": "0bb489e4",
   "metadata": {},
   "source": [
    "## 9. Агент, который играет всегда \"не камень\""
   ]
  },
  {
   "cell_type": "code",
   "execution_count": 20,
   "id": "6c8656c5",
   "metadata": {},
   "outputs": [
    {
     "name": "stdout",
     "output_type": "stream",
     "text": [
      "Writing not_rock.py\n"
     ]
    }
   ],
   "source": [
    "%%writefile not_rock.py\n",
    "\n",
    "import random\n",
    "\n",
    "\n",
    "def not_rock(observation, configuration):\n",
    "    return random.randrange(1, configuration.signs)"
   ]
  },
  {
   "cell_type": "code",
   "execution_count": 21,
   "id": "3e76eaed",
   "metadata": {},
   "outputs": [
    {
     "data": {
      "text/plain": [
       "[[-31.0, 31.0]]"
      ]
     },
     "execution_count": 21,
     "metadata": {},
     "output_type": "execute_result"
    }
   ],
   "source": [
    "evaluate(\n",
    "    \"rps\", #environment to use - no need to change\n",
    "    [\"not_rock.py\", \"statistical\"], #agents to evaluate\n",
    "    configuration={\"episodeSteps\": 100}, #number of episodes\n",
    ")"
   ]
  },
  {
   "cell_type": "markdown",
   "id": "5c6138c2",
   "metadata": {},
   "source": [
    "## 10. Агент ходит рандомно так, как не сходил оппонент\n"
   ]
  },
  {
   "cell_type": "code",
   "execution_count": 22,
   "id": "f5177a64",
   "metadata": {},
   "outputs": [
    {
     "name": "stdout",
     "output_type": "stream",
     "text": [
      "Writing opposit_agent.py\n"
     ]
    }
   ],
   "source": [
    "%%writefile opposit_agent.py\n",
    "\n",
    "import random\n",
    "\n",
    "def opposit_agent(observation, configuration):\n",
    "    if observation.step > 0:\n",
    "        if observation.lastOpponentAction == 0:\n",
    "            return random.choice([1,2])\n",
    "        elif observation.lastOpponentAction == 1:\n",
    "            return random.choice([0,2])\n",
    "        else:\n",
    "            return random.choice([1,0])\n",
    "    else:\n",
    "        return random.randrange(0, configuration.signs)"
   ]
  },
  {
   "cell_type": "code",
   "execution_count": 23,
   "id": "83d8e369",
   "metadata": {},
   "outputs": [
    {
     "data": {
      "text/plain": [
       "[[0, 0]]"
      ]
     },
     "execution_count": 23,
     "metadata": {},
     "output_type": "execute_result"
    }
   ],
   "source": [
    "evaluate(\n",
    "    \"rps\", #environment to use - no need to change\n",
    "    [\"opposit_agent.py\", \"statistical\"], #agents to evaluate\n",
    "    configuration={\"episodeSteps\": 100}, #number of episodes\n",
    ")"
   ]
  },
  {
   "cell_type": "markdown",
   "id": "525f9138",
   "metadata": {},
   "source": [
    "## 11. Агент ходит так же если проиграл, и меняет на действие оппонента, если выиграл"
   ]
  },
  {
   "cell_type": "code",
   "execution_count": 26,
   "id": "43c7ed8f",
   "metadata": {},
   "outputs": [
    {
     "name": "stdout",
     "output_type": "stream",
     "text": [
      "Writing win_opposit1.py\n"
     ]
    }
   ],
   "source": [
    "%%writefile win_opposit1.py\n",
    "\n",
    "import math\n",
    "\n",
    "def get_score(left_move, right_move):\n",
    "    delta = (\n",
    "        right_move - left_move\n",
    "        if (left_move + right_move) % 2 == 0\n",
    "        else left_move - right_move\n",
    "    )\n",
    "    return 0 if delta == 0 else math.copysign(1, delta)\n",
    "\n",
    "import random\n",
    "\n",
    "lastAction = None\n",
    "\n",
    "def win_opposit1(observation, configuration):\n",
    "    global lastAction\n",
    "    if observation.step == 0:\n",
    "        lastAction = random.randrange(0, configuration.signs)\n",
    "    elif get_score(lastAction, observation.lastOpponentAction) == 1:\n",
    "        lastAction = observation.lastOpponentAction\n",
    "    return lastAction"
   ]
  },
  {
   "cell_type": "code",
   "execution_count": 27,
   "id": "b2a66043",
   "metadata": {},
   "outputs": [
    {
     "data": {
      "text/plain": [
       "[[-93.0, 93.0]]"
      ]
     },
     "execution_count": 27,
     "metadata": {},
     "output_type": "execute_result"
    }
   ],
   "source": [
    "evaluate(\n",
    "    \"rps\", #environment to use - no need to change\n",
    "    [\"win_opposit1.py\", \"statistical\"], #agents to evaluate\n",
    "    configuration={\"episodeSteps\": 100}, #number of episodes\n",
    ")"
   ]
  },
  {
   "cell_type": "markdown",
   "id": "396a371f",
   "metadata": {},
   "source": [
    "## 12. Агент ходит так же если выиграл, и меняет на действие оппонента, если проиграл"
   ]
  },
  {
   "cell_type": "code",
   "execution_count": null,
   "id": "44d5c9d8",
   "metadata": {},
   "outputs": [],
   "source": [
    "%%writefile win_opposit2.py\n",
    "\n",
    "import math\n",
    "\n",
    "def get_score(left_move, right_move):\n",
    "    delta = (\n",
    "        right_move - left_move\n",
    "        if (left_move + right_move) % 2 == 0\n",
    "        else left_move - right_move\n",
    "    )\n",
    "    return 0 if delta == 0 else math.copysign(1, delta)\n",
    "\n",
    "import random\n",
    "\n",
    "lastAction = None\n",
    "\n",
    "def win_opposit2(observation, configuration):\n",
    "    global lastAction\n",
    "    if observation.step == 0:\n",
    "        lastAction = random.randrange(0, configuration.signs)\n",
    "    elif get_score(lastAction, observation.lastOpponentAction) < 1:\n",
    "        lastAction = observation.lastOpponentAction\n",
    "    return lastAction"
   ]
  },
  {
   "cell_type": "code",
   "execution_count": 29,
   "id": "1c3cd8f4",
   "metadata": {},
   "outputs": [
    {
     "data": {
      "text/plain": [
       "[[-21.0, 21.0]]"
      ]
     },
     "execution_count": 29,
     "metadata": {},
     "output_type": "execute_result"
    }
   ],
   "source": [
    "evaluate(\n",
    "    \"rps\", #environment to use - no need to change\n",
    "    [\"win_opposit2.py\", \"statistical\"], #agents to evaluate\n",
    "    configuration={\"episodeSteps\": 100}, #number of episodes\n",
    ")"
   ]
  },
  {
   "cell_type": "markdown",
   "id": "131e504a",
   "metadata": {},
   "source": [
    "Воспользуемся функцией evaluate из библиотеки kaggle_environments с помощью которой запустим наших агентов и проведем турнир "
   ]
  },
  {
   "cell_type": "markdown",
   "id": "2c00e77d",
   "metadata": {},
   "source": [
    "## Турнир"
   ]
  },
  {
   "cell_type": "markdown",
   "id": "374ba8c9",
   "metadata": {},
   "source": [
    "Составим список агентов, потом заставим их сыграть между собой. Получившуюся статистику побед запишем в словарь и выведем в виде таблицы pandas."
   ]
  },
  {
   "cell_type": "code",
   "execution_count": 31,
   "id": "0fd05c56",
   "metadata": {},
   "outputs": [],
   "source": [
    "agents = ['rock_agent.py',\n",
    "          'paper_agent.py',\n",
    "          'scissors_agent.py',\n",
    "          'twin_opponent.py',\n",
    "          'random_opponent.py',\n",
    "          'copy_opponent.py',\n",
    "          'not_scissors.py',\n",
    "          'not_paper.py', \n",
    "          'not_rock.py', \n",
    "          'opposit_agent.py',  \n",
    "          'win_opposit1.py', \n",
    "          'win_opposit2.py']\n",
    "\n",
    "\n",
    "rank = {agent: 0 for agent in agents}\n",
    "\n",
    "for times in range(3):\n",
    "# сколько раундов сыграет каждая пара\n",
    "          \n",
    "    for i in range(len(agents)):\n",
    "        for j in range(i+1, len(agents)):\n",
    "            e = evaluate(\n",
    "            \"rps\", #environment to use - no need to change\n",
    "            [agents[i], agents[j]], #agents to evaluate\n",
    "            configuration={\"episodeSteps\": 100, 'tieRewardThreshold': 1} #number of episodes \n",
    "            )\n",
    "            if e[0][0] > e[0][1]:\n",
    "                rank[agents[i]] += 1\n",
    "            elif e[0][0] < e[0][1]:\n",
    "                rank[agents[j]] += 1\n",
    "                "
   ]
  },
  {
   "cell_type": "code",
   "execution_count": 35,
   "id": "43ca05d8",
   "metadata": {},
   "outputs": [
    {
     "data": {
      "text/html": [
       "<div>\n",
       "<style scoped>\n",
       "    .dataframe tbody tr th:only-of-type {\n",
       "        vertical-align: middle;\n",
       "    }\n",
       "\n",
       "    .dataframe tbody tr th {\n",
       "        vertical-align: top;\n",
       "    }\n",
       "\n",
       "    .dataframe thead th {\n",
       "        text-align: right;\n",
       "    }\n",
       "</style>\n",
       "<table border=\"1\" class=\"dataframe\">\n",
       "  <thead>\n",
       "    <tr style=\"text-align: right;\">\n",
       "      <th></th>\n",
       "      <th>Рейтинг турнира по количеству выигранных партий</th>\n",
       "    </tr>\n",
       "  </thead>\n",
       "  <tbody>\n",
       "    <tr>\n",
       "      <th>win_opposit2.py</th>\n",
       "      <td>23</td>\n",
       "    </tr>\n",
       "    <tr>\n",
       "      <th>opposit_agent.py</th>\n",
       "      <td>19</td>\n",
       "    </tr>\n",
       "    <tr>\n",
       "      <th>rock_agent.py</th>\n",
       "      <td>16</td>\n",
       "    </tr>\n",
       "    <tr>\n",
       "      <th>paper_agent.py</th>\n",
       "      <td>15</td>\n",
       "    </tr>\n",
       "    <tr>\n",
       "      <th>not_scissors.py</th>\n",
       "      <td>15</td>\n",
       "    </tr>\n",
       "    <tr>\n",
       "      <th>not_rock.py</th>\n",
       "      <td>15</td>\n",
       "    </tr>\n",
       "    <tr>\n",
       "      <th>not_paper.py</th>\n",
       "      <td>14</td>\n",
       "    </tr>\n",
       "    <tr>\n",
       "      <th>scissors_agent.py</th>\n",
       "      <td>12</td>\n",
       "    </tr>\n",
       "    <tr>\n",
       "      <th>random_opponent.py</th>\n",
       "      <td>12</td>\n",
       "    </tr>\n",
       "    <tr>\n",
       "      <th>copy_opponent.py</th>\n",
       "      <td>11</td>\n",
       "    </tr>\n",
       "    <tr>\n",
       "      <th>twin_opponent.py</th>\n",
       "      <td>9</td>\n",
       "    </tr>\n",
       "    <tr>\n",
       "      <th>win_opposit1.py</th>\n",
       "      <td>9</td>\n",
       "    </tr>\n",
       "  </tbody>\n",
       "</table>\n",
       "</div>"
      ],
      "text/plain": [
       "                    Рейтинг турнира по количеству выигранных партий\n",
       "win_opposit2.py                                                  23\n",
       "opposit_agent.py                                                 19\n",
       "rock_agent.py                                                    16\n",
       "paper_agent.py                                                   15\n",
       "not_scissors.py                                                  15\n",
       "not_rock.py                                                      15\n",
       "not_paper.py                                                     14\n",
       "scissors_agent.py                                                12\n",
       "random_opponent.py                                               12\n",
       "copy_opponent.py                                                 11\n",
       "twin_opponent.py                                                  9\n",
       "win_opposit1.py                                                   9"
      ]
     },
     "execution_count": 35,
     "metadata": {},
     "output_type": "execute_result"
    }
   ],
   "source": [
    "tournament = pd.Series(rank, name=\"Рейтинг турнира по количеству выигранных партий\").sort_values(ascending=False).to_frame()\n",
    "tournament"
   ]
  },
  {
   "cell_type": "code",
   "execution_count": null,
   "id": "39c6fe07",
   "metadata": {},
   "outputs": [],
   "source": []
  }
 ],
 "metadata": {
  "kernelspec": {
   "display_name": "Python 3 (ipykernel)",
   "language": "python",
   "name": "python3"
  },
  "language_info": {
   "codemirror_mode": {
    "name": "ipython",
    "version": 3
   },
   "file_extension": ".py",
   "mimetype": "text/x-python",
   "name": "python",
   "nbconvert_exporter": "python",
   "pygments_lexer": "ipython3",
   "version": "3.9.12"
  }
 },
 "nbformat": 4,
 "nbformat_minor": 5
}
